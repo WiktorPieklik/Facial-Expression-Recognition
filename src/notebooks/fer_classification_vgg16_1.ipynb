{
 "cells": [
  {
   "cell_type": "markdown",
   "metadata": {
    "id": "EwAFUL7lmxaP",
    "pycharm": {
     "name": "#%% md\n"
    }
   },
   "source": [
    "Model from paper:  \n",
    "https://github.com/janZub-AI/EmotionDetectionVGG\n",
    "\n"
   ]
  },
  {
   "cell_type": "markdown",
   "metadata": {
    "id": "_pVgf65kmxaS",
    "pycharm": {
     "name": "#%% md\n"
    }
   },
   "source": [
    "Imports"
   ]
  },
  {
   "cell_type": "code",
   "execution_count": 1,
   "metadata": {
    "colab": {
     "base_uri": "https://localhost:8080/"
    },
    "id": "5Pg1qLRUnDI3",
    "outputId": "b4bacd3d-1a34-4752-ea6d-9e2952138094",
    "pycharm": {
     "name": "#%%\n"
    }
   },
   "outputs": [
    {
     "output_type": "stream",
     "name": "stdout",
     "text": [
      "Mounted at /content/drive\n"
     ]
    }
   ],
   "source": [
    "from google.colab import drive\n",
    "drive.mount('/content/drive')"
   ]
  },
  {
   "cell_type": "code",
   "execution_count": null,
   "metadata": {
    "id": "fnkjEn4xYnXJ",
    "pycharm": {
     "name": "#%%\n"
    }
   },
   "outputs": [],
   "source": [
    "!git lfs install\n",
    "!git clone https://github.com/WiktorPieklik/Facial-Expression-Recognition.git\n",
    "!cd /content/Facial-Expression-Recognition && git checkout custom-net"
   ]
  },
  {
   "cell_type": "code",
   "execution_count": null,
   "metadata": {
    "collapsed": true,
    "id": "TE33ytvdb94V",
    "pycharm": {
     "name": "#%%\n"
    }
   },
   "outputs": [],
   "source": [
    "!python /content/Facial-Expression-Recognition/install.py"
   ]
  },
  {
   "cell_type": "code",
   "execution_count": null,
   "metadata": {
    "id": "ObciY53JY_07",
    "pycharm": {
     "name": "#%%\n"
    }
   },
   "outputs": [],
   "source": [
    "!cd /content/Facial-Expression-Recognition && python /content/Facial-Expression-Recognition/setup_dataset.py"
   ]
  },
  {
   "cell_type": "code",
   "source": [
    "!cd /content/Facial-Expression-Recognition/\n",
    "from src.preprocessing import BalancedAugmenter\n"
   ],
   "metadata": {
    "id": "6xunBNl0ZyY-",
    "pycharm": {
     "name": "#%%\n"
    }
   },
   "execution_count": null,
   "outputs": []
  },
  {
   "cell_type": "code",
   "source": [
    "\n",
    "# import cv2\n",
    "# import imgaug.augmenters as iaa\n",
    "# import os\n",
    "# from random import sample\n",
    "# from typing import List, Dict\n",
    "\n",
    "# import numpy as np\n",
    "\n",
    "\n",
    "# def save_images(dataset_path: str, augmented_images: Dict[str, List[np.ndarray]]) -> None:\n",
    "#     counter = 1\n",
    "#     for emotion, imgs in augmented_images.items():\n",
    "#         for img in imgs:\n",
    "#             path = f\"{dataset_path}/{emotion}/aug_{counter:04d}.jpg\"\n",
    "#             cv2.imwrite(path, img)\n",
    "#             counter += 1\n",
    "\n",
    "\n",
    "# class BalancedAugmenter:\n",
    "#     def __init__(self):\n",
    "#         self.__sequence = iaa.Sequential([\n",
    "#             iaa.Fliplr(0.5),\n",
    "#             iaa.Crop(percent=(0, 0.1)),\n",
    "#             iaa.Sometimes(\n",
    "#                 0.5,\n",
    "#                 iaa.GaussianBlur(sigma=(0, 0.5))\n",
    "#             ),\n",
    "#             iaa.LinearContrast((.75, 1.5)),\n",
    "#             iaa.Multiply((0.8, 1.2), per_channel=False),\n",
    "#             iaa.Affine(\n",
    "#                 scale={\"x\": (0.8, 1.2), \"y\": (0.8, 1.2)},\n",
    "#                 translate_percent={\"x\": (-0.2, 0.2), \"y\": (-0.2, 0.2)},\n",
    "#                 rotate=(-25, 25),\n",
    "#                 shear=(-8, 8)\n",
    "#             )\n",
    "#         ], random_order=True)\n",
    "\n",
    "#     @staticmethod\n",
    "#     def calculate_classes_distribution(dataset_path: str) -> dict:\n",
    "#         distribution = {}\n",
    "#         for root, _, files in os.walk(dataset_path):\n",
    "#             if root == dataset_path:\n",
    "#                 continue\n",
    "#             else:\n",
    "#                 emotion = os.path.basename(root)\n",
    "#                 distribution[emotion] = len(files)\n",
    "\n",
    "#         return distribution\n",
    "\n",
    "#     def apply(self, dataset_path: str, save: bool = False) -> Dict[str, List[np.ndarray]]:\n",
    "#         distribution = self.calculate_classes_distribution(dataset_path)\n",
    "#         biggest_class = max(distribution, key=lambda k: distribution[k])\n",
    "#         augmented_imgs = {}\n",
    "#         for root, _, files in os.walk(dataset_path):\n",
    "#             if root == dataset_path:\n",
    "#                 continue\n",
    "#             else:\n",
    "#                 img_count = len(files)\n",
    "#                 imgs_to_augment = distribution[biggest_class] - img_count\n",
    "#                 if imgs_to_augment:\n",
    "#                     emotion = os.path.basename(root)\n",
    "#                     augmented_imgs[emotion] = self.__apply(root, imgs_to_augment, img_count)\n",
    "\n",
    "#         if save:\n",
    "#             save_images(dataset_path, augmented_imgs)\n",
    "\n",
    "#         return augmented_imgs\n",
    "\n",
    "#     def __apply(self, path_to_imgs: str, imgs_to_augment: int, img_total_count: int) -> List[np.ndarray]:\n",
    "#         if img_total_count - imgs_to_augment < 0:\n",
    "#             left_to_generate = imgs_to_augment\n",
    "#             img_names = []\n",
    "#             while left_to_generate > 0:\n",
    "#                 batch_size = img_total_count \\\n",
    "#                     if left_to_generate - img_total_count > 0 \\\n",
    "#                     else left_to_generate\n",
    "#                 img_names.extend(sample(os.listdir(path_to_imgs), k=batch_size))\n",
    "#                 left_to_generate -= batch_size\n",
    "#         else:\n",
    "#             img_names = sample(os.listdir(path_to_imgs), k=imgs_to_augment)\n",
    "#         imgs = list(map(lambda img_path: cv2.imread(path_to_imgs + \"/\" + img_path, cv2.IMREAD_GRAYSCALE), img_names))\n",
    "#         augmented_imgs = self.__sequence(images=imgs)\n",
    "\n",
    "#         return augmented_imgs\n",
    "\n",
    "ba = BalancedAugmenter()\n",
    "ba.apply('/content/Facial-Expression-Recognition/raw/images/Training', save=True)"
   ],
   "metadata": {
    "id": "p0tREQfkz2m2",
    "pycharm": {
     "name": "#%%\n"
    }
   },
   "execution_count": null,
   "outputs": []
  },
  {
   "cell_type": "code",
   "execution_count": null,
   "metadata": {
    "id": "tt57e3m5QISA",
    "pycharm": {
     "name": "#%%\n"
    }
   },
   "outputs": [],
   "source": [
    "# !cp -r \"/content/drive/My Drive/TAI/II/Neural-networks/data/\" \"/content/sample_data/fer\""
   ]
  },
  {
   "cell_type": "code",
   "execution_count": 17,
   "metadata": {
    "id": "LKzza7Xxmxaa",
    "pycharm": {
     "name": "#%%\n"
    }
   },
   "outputs": [],
   "source": [
    "import os\n",
    "import datetime\n",
    "from pathlib import Path\n",
    "\n",
    "import matplotlib.pyplot as plt\n",
    "import numpy as np\n",
    "import imgaug.augmenters as iaa\n",
    "\n",
    "import tensorflow as tf\n",
    "\n",
    "from sklearn.metrics import confusion_matrix, ConfusionMatrixDisplay, classification_report"
   ]
  },
  {
   "cell_type": "markdown",
   "metadata": {
    "id": "-jnnoBwdmxac",
    "pycharm": {
     "name": "#%% md\n"
    }
   },
   "source": [
    "Debbuging options"
   ]
  },
  {
   "cell_type": "code",
   "execution_count": null,
   "metadata": {
    "id": "72COZnZhmxad",
    "pycharm": {
     "name": "#%%\n"
    }
   },
   "outputs": [],
   "source": [
    "# uncomment to log device placement of each operation\n",
    "# tf.debugging.set_log_device_placement(True)"
   ]
  },
  {
   "cell_type": "markdown",
   "metadata": {
    "id": "ZHCGFvwAmxag",
    "pycharm": {
     "name": "#%% md\n"
    }
   },
   "source": [
    "Check GPU"
   ]
  },
  {
   "cell_type": "code",
   "execution_count": 18,
   "metadata": {
    "colab": {
     "base_uri": "https://localhost:8080/"
    },
    "id": "p0e6s5n-mxal",
    "outputId": "bda01c4b-f141-49b1-eb31-27cc027dec60",
    "pycharm": {
     "name": "#%%\n"
    }
   },
   "outputs": [
    {
     "output_type": "stream",
     "name": "stdout",
     "text": [
      "Num GPUs Available:  1\n"
     ]
    }
   ],
   "source": [
    "print(\"Num GPUs Available: \", len(tf.config.experimental.list_physical_devices('GPU')))\n",
    "physical_devices = tf.config.list_physical_devices('GPU')\n",
    "try:\n",
    "  tf.config.experimental.set_memory_growth(physical_devices[0], True)\n",
    "except:\n",
    "  # Invalid device or cannot modify virtual devices once initialized.\n",
    "  pass"
   ]
  },
  {
   "cell_type": "markdown",
   "metadata": {
    "id": "fFoiiWKdmxao",
    "pycharm": {
     "name": "#%% md\n"
    }
   },
   "source": [
    "## Parameters"
   ]
  },
  {
   "cell_type": "code",
   "execution_count": 19,
   "metadata": {
    "id": "tiKQ09xTmxaq",
    "pycharm": {
     "name": "#%%\n"
    }
   },
   "outputs": [],
   "source": [
    "IMG_SIZE=(48,48)\n",
    "INPUT_SHAPE=IMG_SIZE + (1,)\n",
    "\n",
    "# Choose resize method. The options are:\n",
    "# area, bicubic, bilinear, gaussian, lanczos3, lanczos5, mitchellcubic, nearest\n",
    "INTERPOLATION = \"bilinear\"\n",
    "\n",
    "BATCH_SIZE=128\n",
    "MAX_EPOCHS = 300\n",
    "NUM_CLASSES=7\n",
    "CLASS_WEIGHTS= {0: 1, 1: 1}\n",
    "CLASS_NAMES=[]\n",
    "\n",
    "\n",
    "SEED=1234"
   ]
  },
  {
   "cell_type": "markdown",
   "metadata": {
    "id": "u3DZJJfVmxar",
    "pycharm": {
     "name": "#%% md\n"
    }
   },
   "source": [
    "Paths"
   ]
  },
  {
   "cell_type": "code",
   "execution_count": 20,
   "metadata": {
    "id": "SFNDLttymxas",
    "pycharm": {
     "name": "#%%\n"
    }
   },
   "outputs": [],
   "source": [
    "# # choose data directory\n",
    "TRAIN_DATA_PATH=Path('/content/Facial-Expression-Recognition/raw/images/Training')\n",
    "VAL_DATA_PATH=Path('/content/Facial-Expression-Recognition/raw/images/PublicTest')\n",
    "TEST_DATA_PATH=Path('/content/Facial-Expression-Recognition/raw/images/PrivateTest')\n",
    "# choose logs directory\n",
    "LOG_DIR = Path('/content/drive/My Drive/TAI/II/Neural-networks/notebooks/logs')"
   ]
  },
  {
   "cell_type": "code",
   "execution_count": 21,
   "metadata": {
    "id": "7P_uY9upmxat",
    "pycharm": {
     "name": "#%%\n"
    }
   },
   "outputs": [],
   "source": [
    "# name your experiment\n",
    "EXPERIMENT = \"Facial-Expression-Recognition-with-VGG16\""
   ]
  },
  {
   "cell_type": "code",
   "execution_count": 22,
   "metadata": {
    "id": "mhY1p9PUmxav",
    "pycharm": {
     "name": "#%%\n"
    }
   },
   "outputs": [],
   "source": [
    "OUTPUT_DIR = LOG_DIR / EXPERIMENT / 'trial_{:02}'\n",
    "counter=1\n",
    "while os.path.exists(str(OUTPUT_DIR).format(counter)):\n",
    "    counter += 1\n",
    "OUTPUT_DIR = Path(str(OUTPUT_DIR).format(counter))\n",
    "os.makedirs(OUTPUT_DIR, exist_ok = True)"
   ]
  },
  {
   "cell_type": "code",
   "execution_count": 23,
   "metadata": {
    "id": "_sxkE1Pkmxay",
    "pycharm": {
     "name": "#%%\n"
    }
   },
   "outputs": [],
   "source": [
    "summary_filepath = OUTPUT_DIR / 'model.txt'\n",
    "best_model_filepath = OUTPUT_DIR / f'model.h5'\n",
    "csv_logger_filepath = OUTPUT_DIR / f'training.log'\n",
    "history_filepath = OUTPUT_DIR / f'training_history.png'\n",
    "report_filepath = OUTPUT_DIR / 'report.txt'\n",
    "confusion_matrix_norm_filepath = OUTPUT_DIR / f'confusion_matrix_norm.png'\n",
    "confusion_matrix_filepath = OUTPUT_DIR / f'confusion_matrix.png'"
   ]
  },
  {
   "cell_type": "markdown",
   "metadata": {
    "id": "tHw8Lgm1mxaz",
    "pycharm": {
     "name": "#%% md\n"
    }
   },
   "source": [
    "## DATA INPUT PIPELINE"
   ]
  },
  {
   "cell_type": "markdown",
   "metadata": {
    "id": "1ahtMkSGmxa3",
    "pycharm": {
     "name": "#%% md\n"
    }
   },
   "source": [
    "Load datasets"
   ]
  },
  {
   "cell_type": "code",
   "execution_count": 28,
   "metadata": {
    "colab": {
     "base_uri": "https://localhost:8080/"
    },
    "id": "XPsHaGrfmxa3",
    "outputId": "8840c3f8-8fee-4c2b-9c06-c24dde04fce2",
    "pycharm": {
     "name": "#%%\n"
    }
   },
   "outputs": [
    {
     "output_type": "stream",
     "name": "stdout",
     "text": [
      "Found 28709 files belonging to 7 classes.\n",
      "Found 3589 files belonging to 7 classes.\n",
      "Found 3589 files belonging to 7 classes.\n"
     ]
    }
   ],
   "source": [
    "train_ds = tf.keras.utils.image_dataset_from_directory(\n",
    "        TRAIN_DATA_PATH,\n",
    "        color_mode='grayscale',\n",
    "        label_mode='categorical',\n",
    "        image_size=IMG_SIZE,\n",
    "        batch_size=None,\n",
    "        shuffle=True)\n",
    "\n",
    "val_ds = tf.keras.utils.image_dataset_from_directory(\n",
    "        VAL_DATA_PATH,\n",
    "        color_mode='grayscale',\n",
    "        label_mode='categorical',\n",
    "        image_size=IMG_SIZE,\n",
    "        batch_size=None,\n",
    "        shuffle=False)\n",
    "\n",
    "test_ds = tf.keras.utils.image_dataset_from_directory(\n",
    "        TEST_DATA_PATH,\n",
    "        color_mode='grayscale',\n",
    "        label_mode='categorical',\n",
    "        image_size=IMG_SIZE,\n",
    "        batch_size=None,\n",
    "        shuffle=False)\n",
    "\n",
    "\n",
    "class_names = train_ds.class_names"
   ]
  },
  {
   "cell_type": "code",
   "execution_count": 32,
   "metadata": {
    "id": "h5wF9mddv1PV",
    "pycharm": {
     "name": "#%%\n"
    }
   },
   "outputs": [],
   "source": [
    "AUTOTUNE = tf.data.AUTOTUNE"
   ]
  },
  {
   "cell_type": "code",
   "execution_count": 29,
   "metadata": {
    "id": "tUthhdQ6v3eB",
    "pycharm": {
     "name": "#%%\n"
    }
   },
   "outputs": [],
   "source": [
    "augmentations = iaa.Sequential([\n",
    "    iaa.HorizontalFlip(p=0.5),\n",
    "    # iaa.VerticalFlip(p=0.5),\n",
    "    iaa.TranslateX(px=(-5, 5)),\n",
    "    iaa.TranslateX(px=(-5, 5)),\n",
    "    iaa.Rotate((-45, 45))\n",
    "    ], random_order=True)"
   ]
  },
  {
   "cell_type": "code",
   "source": [
    "\n",
    "train_ds = train_ds.map(lambda x, y: (tf.numpy_function(augmentations.augment_image, [x], x.dtype), y)) "
   ],
   "metadata": {
    "id": "orwiPAO8yYcl",
    "pycharm": {
     "name": "#%%\n"
    }
   },
   "execution_count": null,
   "outputs": []
  },
  {
   "cell_type": "code",
   "source": [
    "augmentations = iaa.HorizontalFlip(p=0.5)"
   ],
   "metadata": {
    "colab": {
     "base_uri": "https://localhost:8080/"
    },
    "id": "8RqH6pg3yuyI",
    "outputId": "8b6a46e8-8a82-4d6c-cc73-913618a170ba",
    "pycharm": {
     "name": "#%%\n"
    }
   },
   "execution_count": 26,
   "outputs": [
    {
     "output_type": "execute_result",
     "data": {
      "text/plain": [
       "<MapDataset element_spec=(TensorSpec(shape=<unknown>, dtype=tf.float32, name=None), TensorSpec(shape=(7,), dtype=tf.float32, name=None))>"
      ]
     },
     "metadata": {},
     "execution_count": 26
    }
   ]
  },
  {
   "cell_type": "code",
   "execution_count": 30,
   "metadata": {
    "colab": {
     "base_uri": "https://localhost:8080/",
     "height": 92
    },
    "id": "dvPaWntYv8uq",
    "outputId": "fb9ff871-c2b1-4c88-885a-fc904c68d16f",
    "pycharm": {
     "name": "#%%\n"
    }
   },
   "outputs": [
    {
     "output_type": "display_data",
     "data": {
      "text/plain": [
       "<Figure size 720x3600 with 10 Axes>"
      ],
      "image/png": "[encoded data removed]"
     },
     "metadata": {}
    }
   ],
   "source": [
    "\n",
    "train_ds = train_ds.map(lambda x, y: (tf.numpy_function(augmentations.augment_image, [x], x.dtype), y),num_parallel_calls=AUTOTUNE) "
   ]
  },
  {
   "cell_type": "code",
   "execution_count": 33,
   "metadata": {
    "id": "OrYaCfWUv_nB",
    "pycharm": {
     "name": "#%%\n"
    }
   },
   "outputs": [],
   "source": [
    "train_ds\n"
   ]
  },
  {
   "cell_type": "code",
   "execution_count": null,
   "metadata": {
    "id": "sqa4mlUDqjEi",
    "pycharm": {
     "name": "#%%\n"
    }
   },
   "outputs": [],
   "source": [
    "plt.rc('figure', facecolor='FFFFFF')\n",
    "fig = plt.figure(figsize=(10, 50))\n",
    "\n",
    "for i, (image, label) in enumerate(train_ds.take(10)): # DATASE HAVE TO BE UNBATCHED\n",
    "    image = image.numpy()\n",
    "    label = label.numpy()\n",
    "    ax = fig.add_subplot(1,10, i+1)\n",
    "    ax.imshow(image[:,:,0]/255, cmap=\"gray\")\n",
    "    plt.xticks([])\n",
    "    plt.yticks([])\n",
    "    plt.xlabel(np.argmax(label))\n",
    "plt.show()"
   ]
  },
  {
   "cell_type": "code",
   "execution_count": null,
   "outputs": [],
   "source": [
    "train_ds = train_ds.batch(BATCH_SIZE).prefetch(AUTOTUNE)\n",
    "val_ds = val_ds.batch(128).prefetch(AUTOTUNE)\n",
    "test_ds = test_ds.batch(128).prefetch(AUTOTUNE)"
   ],
   "metadata": {
    "collapsed": false,
    "pycharm": {
     "name": "#%%\n"
    }
   }
  },
  {
   "cell_type": "code",
   "execution_count": null,
   "metadata": {
    "id": "5qESNpp5mxa7",
    "pycharm": {
     "name": "#%%\n"
    }
   },
   "outputs": [],
   "source": [
    "# labels = [np.argmax(y) for x, y in train_ds]\n",
    "# neg, pos = np.bincount(labels)\n",
    "# total = neg + pos\n",
    "\n",
    "# # Scaling by total/2 helps keep the loss to a similar magnitude.\n",
    "# # The sum of the weights of all examples stays the same.\n",
    "# weight_for_0 = (1 / neg) * (total / 2.0)\n",
    "# weight_for_1 = (1 / pos) * (total / 2.0)\n",
    "\n",
    "\n",
    "# CLASS_WEIGHTS = {0: weight_for_0, 1: weight_for_1}\n",
    "\n",
    "# print('Weight for class 0: {:.2f}'.format(weight_for_0))\n",
    "# print('Weight for class 1: {:.2f}'.format(weight_for_1))"
   ]
  },
  {
   "cell_type": "markdown",
   "metadata": {
    "id": "iP4z6uuQmxa9",
    "pycharm": {
     "name": "#%% md\n"
    }
   },
   "source": [
    "Show images"
   ]
  },
  {
   "cell_type": "code",
   "execution_count": 44,
   "metadata": {
    "id": "H-3Mg7Xumxa9",
    "colab": {
     "base_uri": "https://localhost:8080/"
    },
    "outputId": "483a43d1-5946-4647-daea-a1d52cf64014",
    "pycharm": {
     "name": "#%%\n"
    }
   },
   "outputs": [
    {
     "output_type": "stream",
     "name": "stdout",
     "text": [
      "Model: \"vgg16\"\n",
      "_________________________________________________________________\n",
      " Layer (type)                Output Shape              Param #   \n",
      "=================================================================\n",
      " input_5 (InputLayer)        [(None, 48, 48, 1)]       0         \n",
      "                                                                 \n",
      " block1_conv1 (Conv2D)       (None, 48, 48, 64)        640       \n",
      "                                                                 \n",
      " block1_conv2 (Conv2D)       (None, 48, 48, 64)        36928     \n",
      "                                                                 \n",
      " block1_pool (MaxPooling2D)  (None, 24, 24, 64)        0         \n",
      "                                                                 \n",
      " block2_conv1 (Conv2D)       (None, 24, 24, 128)       73856     \n",
      "                                                                 \n",
      " block2_conv2 (Conv2D)       (None, 24, 24, 128)       147584    \n",
      "                                                                 \n",
      " block2_pool (MaxPooling2D)  (None, 12, 12, 128)       0         \n",
      "                                                                 \n",
      " block3_conv1 (Conv2D)       (None, 12, 12, 256)       295168    \n",
      "                                                                 \n",
      " block3_conv2 (Conv2D)       (None, 12, 12, 256)       590080    \n",
      "                                                                 \n",
      " block3_conv3 (Conv2D)       (None, 12, 12, 256)       590080    \n",
      "                                                                 \n",
      " block3_pool (MaxPooling2D)  (None, 6, 6, 256)         0         \n",
      "                                                                 \n",
      " block4_conv1 (Conv2D)       (None, 6, 6, 512)         1180160   \n",
      "                                                                 \n",
      " block4_conv2 (Conv2D)       (None, 6, 6, 512)         2359808   \n",
      "                                                                 \n",
      " block4_conv3 (Conv2D)       (None, 6, 6, 512)         2359808   \n",
      "                                                                 \n",
      " block4_pool (MaxPooling2D)  (None, 3, 3, 512)         0         \n",
      "                                                                 \n",
      " block5_conv1 (Conv2D)       (None, 3, 3, 512)         2359808   \n",
      "                                                                 \n",
      " block5_conv2 (Conv2D)       (None, 3, 3, 512)         2359808   \n",
      "                                                                 \n",
      " block5_conv3 (Conv2D)       (None, 3, 3, 512)         2359808   \n",
      "                                                                 \n",
      " block5_pool (MaxPooling2D)  (None, 1, 1, 512)         0         \n",
      "                                                                 \n",
      "=================================================================\n",
      "Total params: 14,713,536\n",
      "Trainable params: 14,713,536\n",
      "Non-trainable params: 0\n",
      "_________________________________________________________________\n",
      "None\n",
      "Model: \"model_3\"\n",
      "_________________________________________________________________\n",
      " Layer (type)                Output Shape              Param #   \n",
      "=================================================================\n",
      " input_5 (InputLayer)        [(None, 48, 48, 1)]       0         \n",
      "                                                                 \n",
      " block1_conv1 (Conv2D)       (None, 48, 48, 64)        640       \n",
      "                                                                 \n",
      " block1_conv2 (Conv2D)       (None, 48, 48, 64)        36928     \n",
      "                                                                 \n",
      " block1_pool (MaxPooling2D)  (None, 24, 24, 64)        0         \n",
      "                                                                 \n",
      " block2_conv1 (Conv2D)       (None, 24, 24, 128)       73856     \n",
      "                                                                 \n",
      " block2_conv2 (Conv2D)       (None, 24, 24, 128)       147584    \n",
      "                                                                 \n",
      " block2_pool (MaxPooling2D)  (None, 12, 12, 128)       0         \n",
      "                                                                 \n",
      " block3_conv1 (Conv2D)       (None, 12, 12, 256)       295168    \n",
      "                                                                 \n",
      " block3_conv2 (Conv2D)       (None, 12, 12, 256)       590080    \n",
      "                                                                 \n",
      " block3_conv3 (Conv2D)       (None, 12, 12, 256)       590080    \n",
      "                                                                 \n",
      " block3_pool (MaxPooling2D)  (None, 6, 6, 256)         0         \n",
      "                                                                 \n",
      " block4_conv1 (Conv2D)       (None, 6, 6, 512)         1180160   \n",
      "                                                                 \n",
      " block4_conv2 (Conv2D)       (None, 6, 6, 512)         2359808   \n",
      "                                                                 \n",
      " block4_conv3 (Conv2D)       (None, 6, 6, 512)         2359808   \n",
      "                                                                 \n",
      " block4_pool (MaxPooling2D)  (None, 3, 3, 512)         0         \n",
      "                                                                 \n",
      " flatten (Flatten)           (None, 4608)              0         \n",
      "                                                                 \n",
      " dropout_6 (Dropout)         (None, 4608)              0         \n",
      "                                                                 \n",
      " fc6 (Dense)                 (None, 1024)              4719616   \n",
      "                                                                 \n",
      " dropout_7 (Dropout)         (None, 1024)              0         \n",
      "                                                                 \n",
      " fc7 (Dense)                 (None, 1024)              1049600   \n",
      "                                                                 \n",
      " classifier (Dense)          (None, 7)                 7175      \n",
      "                                                                 \n",
      "=================================================================\n",
      "Total params: 13,410,503\n",
      "Trainable params: 13,410,503\n",
      "Non-trainable params: 0\n",
      "_________________________________________________________________\n"
     ]
    }
   ],
   "source": [
    "# for _ in range(5):\n",
    "#     img, label = train_ds.take(1)\n",
    "#     print(img.shape)   #  (1,256,256,3)\n",
    "#     plt.imshow(img[0][:,:,0], cmap=\"gray\")\n",
    "#     plt.show()"
   ]
  },
  {
   "cell_type": "markdown",
   "source": [
    "##### Build model"
   ],
   "metadata": {
    "collapsed": false,
    "pycharm": {
     "name": "#%% md\n"
    }
   }
  },
  {
   "cell_type": "code",
   "execution_count": null,
   "outputs": [],
   "source": [
    "# import necessary layers\n",
    "from keras.models import Model\n",
    "from keras.layers import Input, Flatten, Dense, Activation, Conv2D, MaxPool2D, BatchNormalization, Dropout, MaxPooling2D\n",
    "\n",
    "vgg_notop = tf.keras.applications.VGG16(\n",
    "    include_top=False,\n",
    "    weights=None,\n",
    "    input_shape=INPUT_SHAPE,\n",
    ")\n",
    "\n",
    "print(vgg_notop.summary())\n",
    "last_layer = vgg_notop.get_layer('block4_pool').output\n",
    "x = Flatten(name='flatten')(last_layer)\n",
    "x = Dropout(0.2)(x)\n",
    "x = Dense(1024, activation='relu', name='fc6')(x)\n",
    "x = Dropout(0.2)(x)\n",
    "x = Dense(1024, activation='relu', name='fc7')(x)\n",
    "\n",
    "out = Dense(7, activation='softmax', name='classifier')(x)\n",
    "\n",
    "model = Model(vgg_notop.input, out)\n",
    "\n",
    "# model.build()\n",
    "model.compile(loss='categorical_crossentropy',\n",
    "              optimizer=tf.keras.optimizers.SGD(learning_rate=0.01, momentum=0.9, decay=0.0001),\n",
    "              metrics=['accuracy'])\n",
    "\n",
    "model.summary()"
   ],
   "metadata": {
    "collapsed": false,
    "pycharm": {
     "name": "#%%\n"
    }
   }
  },
  {
   "cell_type": "code",
   "execution_count": 42,
   "metadata": {
    "id": "_xOkIGQZmxbA",
    "pycharm": {
     "name": "#%%\n"
    }
   },
   "outputs": [],
   "source": [
    "model.summary()"
   ]
  },
  {
   "cell_type": "markdown",
   "metadata": {
    "id": "BfmfhR08mxbC",
    "pycharm": {
     "name": "#%% md\n"
    }
   },
   "source": [
    "Save model summary"
   ]
  },
  {
   "cell_type": "code",
   "execution_count": null,
   "metadata": {
    "id": "G8ifQSbGmxbE",
    "pycharm": {
     "name": "#%%\n"
    }
   },
   "outputs": [],
   "source": [
    "with open(summary_filepath, 'w') as f:\n",
    "    model.summary(print_fn=lambda x: f.write(x + '\\n'))"
   ]
  },
  {
   "cell_type": "markdown",
   "metadata": {
    "id": "vFqK9VExmxbF",
    "pycharm": {
     "name": "#%% md\n"
    }
   },
   "source": [
    "Compile model"
   ]
  },
  {
   "cell_type": "code",
   "execution_count": 45,
   "metadata": {
    "colab": {
     "base_uri": "https://localhost:8080/"
    },
    "id": "8n2_SmwfmxbG",
    "outputId": "74649ddb-adef-4eb1-bd21-5bf08dc75b34",
    "pycharm": {
     "name": "#%%\n"
    }
   },
   "outputs": [
    {
     "output_type": "stream",
     "name": "stdout",
     "text": [
      "29/29 [==============================] - 3s 94ms/step - loss: 1.9932 - accuracy: 0.2410\n"
     ]
    },
    {
     "output_type": "execute_result",
     "data": {
      "text/plain": [
       "[1.9932092428207397, 0.24101421236991882]"
      ]
     },
     "metadata": {},
     "execution_count": 45
    }
   ],
   "source": [
    "model.compile(loss='categorical_crossentropy',\n",
    "              optimizer=tf.keras.optimizers.SGD(learning_rate=0.1, momentum=0.9, decay=0.0001),\n",
    "              metrics=['accuracy'])"
   ]
  },
  {
   "cell_type": "markdown",
   "metadata": {
    "id": "wxUvYkAJmxbI",
    "pycharm": {
     "name": "#%% md\n"
    }
   },
   "source": [
    "Pre-evaluate model"
   ]
  },
  {
   "cell_type": "code",
   "execution_count": 46,
   "metadata": {
    "id": "tKWXOW2lmxbJ",
    "pycharm": {
     "name": "#%%\n"
    }
   },
   "outputs": [],
   "source": [
    "model.evaluate(test_ds)"
   ]
  },
  {
   "cell_type": "markdown",
   "metadata": {
    "id": "kaApQ0QAmxbK",
    "pycharm": {
     "name": "#%% md\n"
    }
   },
   "source": [
    "Callbacks"
   ]
  },
  {
   "cell_type": "code",
   "execution_count": 47,
   "metadata": {
    "colab": {
     "base_uri": "https://localhost:8080/"
    },
    "id": "4xQuNcwjW5Wi",
    "outputId": "3dc77706-eb1c-44ba-876c-aad5e581a1a3",
    "pycharm": {
     "name": "#%%\n"
    }
   },
   "outputs": [
    {
     "output_type": "stream",
     "name": "stdout",
     "text": [
      "Epoch 1/300\n",
      "225/225 [==============================] - 89s 390ms/step - loss: 1.8209 - accuracy: 0.2496 - val_loss: 1.8104 - val_accuracy: 0.2494 - lr: 0.0100\n",
      "Epoch 2/300\n",
      "225/225 [==============================] - 79s 350ms/step - loss: 1.8053 - accuracy: 0.2527 - val_loss: 1.7798 - val_accuracy: 0.2561 - lr: 0.0100\n",
      "Epoch 3/300\n",
      "225/225 [==============================] - 78s 344ms/step - loss: 1.7653 - accuracy: 0.2661 - val_loss: 1.7177 - val_accuracy: 0.2848 - lr: 0.0100\n",
      "Epoch 4/300\n",
      "225/225 [==============================] - 75s 332ms/step - loss: 1.7233 - accuracy: 0.2906 - val_loss: 1.6583 - val_accuracy: 0.3260 - lr: 0.0100\n",
      "Epoch 5/300\n",
      "225/225 [==============================] - 75s 331ms/step - loss: 1.6613 - accuracy: 0.3289 - val_loss: 1.6244 - val_accuracy: 0.3644 - lr: 0.0100\n",
      "Epoch 6/300\n",
      "225/225 [==============================] - 78s 343ms/step - loss: 1.5652 - accuracy: 0.3791 - val_loss: 1.4401 - val_accuracy: 0.4283 - lr: 0.0100\n",
      "Epoch 7/300\n",
      "225/225 [==============================] - 79s 348ms/step - loss: 1.4691 - accuracy: 0.4270 - val_loss: 1.3457 - val_accuracy: 0.4817 - lr: 0.0100\n",
      "Epoch 8/300\n",
      "225/225 [==============================] - 80s 354ms/step - loss: 1.3818 - accuracy: 0.4692 - val_loss: 1.3217 - val_accuracy: 0.4865 - lr: 0.0100\n",
      "Epoch 9/300\n",
      "225/225 [==============================] - 78s 346ms/step - loss: 1.3305 - accuracy: 0.4894 - val_loss: 1.2366 - val_accuracy: 0.5305 - lr: 0.0100\n",
      "Epoch 10/300\n",
      "225/225 [==============================] - 79s 350ms/step - loss: 1.2765 - accuracy: 0.5091 - val_loss: 1.2174 - val_accuracy: 0.5300 - lr: 0.0100\n",
      "Epoch 11/300\n",
      "225/225 [==============================] - 78s 346ms/step - loss: 1.2424 - accuracy: 0.5235 - val_loss: 1.1821 - val_accuracy: 0.5472 - lr: 0.0100\n",
      "Epoch 12/300\n",
      "225/225 [==============================] - 80s 354ms/step - loss: 1.2130 - accuracy: 0.5360 - val_loss: 1.1592 - val_accuracy: 0.5587 - lr: 0.0100\n",
      "Epoch 13/300\n",
      "225/225 [==============================] - 79s 348ms/step - loss: 1.1824 - accuracy: 0.5511 - val_loss: 1.1507 - val_accuracy: 0.5575 - lr: 0.0100\n",
      "Epoch 14/300\n",
      "225/225 [==============================] - 80s 351ms/step - loss: 1.1673 - accuracy: 0.5554 - val_loss: 1.1425 - val_accuracy: 0.5628 - lr: 0.0100\n",
      "Epoch 15/300\n",
      "225/225 [==============================] - 77s 338ms/step - loss: 1.1392 - accuracy: 0.5677 - val_loss: 1.1455 - val_accuracy: 0.5717 - lr: 0.0100\n",
      "Epoch 16/300\n",
      "225/225 [==============================] - 79s 349ms/step - loss: 1.1233 - accuracy: 0.5703 - val_loss: 1.1260 - val_accuracy: 0.5784 - lr: 0.0100\n",
      "Epoch 17/300\n",
      "225/225 [==============================] - 79s 348ms/step - loss: 1.1103 - accuracy: 0.5793 - val_loss: 1.1129 - val_accuracy: 0.5723 - lr: 0.0100\n",
      "Epoch 18/300\n",
      "225/225 [==============================] - 82s 361ms/step - loss: 1.0977 - accuracy: 0.5827 - val_loss: 1.1041 - val_accuracy: 0.5798 - lr: 0.0100\n",
      "Epoch 19/300\n",
      "225/225 [==============================] - 80s 352ms/step - loss: 1.0789 - accuracy: 0.5902 - val_loss: 1.0948 - val_accuracy: 0.5982 - lr: 0.0100\n",
      "Epoch 20/300\n",
      "225/225 [==============================] - 75s 330ms/step - loss: 1.0717 - accuracy: 0.5919 - val_loss: 1.1016 - val_accuracy: 0.5826 - lr: 0.0100\n",
      "Epoch 21/300\n",
      "225/225 [==============================] - 76s 336ms/step - loss: 1.0566 - accuracy: 0.5994 - val_loss: 1.0660 - val_accuracy: 0.5893 - lr: 0.0100\n",
      "Epoch 22/300\n",
      "225/225 [==============================] - 77s 338ms/step - loss: 1.0414 - accuracy: 0.6050 - val_loss: 1.1052 - val_accuracy: 0.5893 - lr: 0.0100\n",
      "Epoch 23/300\n",
      "225/225 [==============================] - 78s 346ms/step - loss: 1.0362 - accuracy: 0.6116 - val_loss: 1.0643 - val_accuracy: 0.5918 - lr: 0.0100\n",
      "Epoch 24/300\n",
      "225/225 [==============================] - 81s 358ms/step - loss: 1.0161 - accuracy: 0.6151 - val_loss: 1.0378 - val_accuracy: 0.6124 - lr: 0.0100\n",
      "Epoch 25/300\n",
      "225/225 [==============================] - 76s 336ms/step - loss: 1.0118 - accuracy: 0.6164 - val_loss: 1.0424 - val_accuracy: 0.6063 - lr: 0.0100\n",
      "Epoch 26/300\n",
      "225/225 [==============================] - 79s 350ms/step - loss: 1.0013 - accuracy: 0.6192 - val_loss: 1.0371 - val_accuracy: 0.6041 - lr: 0.0100\n",
      "Epoch 27/300\n",
      "225/225 [==============================] - 75s 329ms/step - loss: 0.9881 - accuracy: 0.6261 - val_loss: 1.0583 - val_accuracy: 0.6046 - lr: 0.0100\n",
      "Epoch 28/300\n",
      "225/225 [==============================] - 76s 336ms/step - loss: 0.9843 - accuracy: 0.6288 - val_loss: 1.0431 - val_accuracy: 0.6057 - lr: 0.0100\n",
      "Epoch 29/300\n",
      "225/225 [==============================] - 78s 346ms/step - loss: 0.9708 - accuracy: 0.6332 - val_loss: 1.0162 - val_accuracy: 0.6177 - lr: 0.0100\n",
      "Epoch 30/300\n",
      "225/225 [==============================] - 75s 330ms/step - loss: 0.9646 - accuracy: 0.6360 - val_loss: 1.0669 - val_accuracy: 0.6041 - lr: 0.0100\n",
      "Epoch 31/300\n",
      "225/225 [==============================] - 75s 332ms/step - loss: 0.9519 - accuracy: 0.6402 - val_loss: 1.0321 - val_accuracy: 0.6094 - lr: 0.0100\n",
      "Epoch 32/300\n",
      "225/225 [==============================] - 77s 337ms/step - loss: 0.9526 - accuracy: 0.6407 - val_loss: 1.0458 - val_accuracy: 0.6222 - lr: 0.0100\n",
      "Epoch 33/300\n",
      "225/225 [==============================] - 74s 327ms/step - loss: 0.9332 - accuracy: 0.6477 - val_loss: 1.0311 - val_accuracy: 0.6069 - lr: 0.0100\n",
      "Epoch 34/300\n",
      "225/225 [==============================] - 74s 328ms/step - loss: 0.9282 - accuracy: 0.6500 - val_loss: 1.0274 - val_accuracy: 0.6174 - lr: 0.0100\n",
      "Epoch 35/300\n",
      "225/225 [==============================] - 76s 336ms/step - loss: 0.9233 - accuracy: 0.6508 - val_loss: 1.0395 - val_accuracy: 0.6124 - lr: 0.0100\n",
      "Epoch 36/300\n",
      "225/225 [==============================] - 75s 330ms/step - loss: 0.9169 - accuracy: 0.6523 - val_loss: 1.0533 - val_accuracy: 0.6135 - lr: 0.0100\n",
      "Epoch 37/300\n",
      "225/225 [==============================] - 79s 346ms/step - loss: 0.9123 - accuracy: 0.6558 - val_loss: 1.0140 - val_accuracy: 0.6358 - lr: 0.0100\n",
      "Epoch 38/300\n",
      "225/225 [==============================] - 76s 336ms/step - loss: 0.9011 - accuracy: 0.6612 - val_loss: 1.0258 - val_accuracy: 0.6183 - lr: 0.0100\n",
      "Epoch 39/300\n",
      "225/225 [==============================] - 75s 329ms/step - loss: 0.8973 - accuracy: 0.6625 - val_loss: 1.0614 - val_accuracy: 0.6116 - lr: 0.0100\n",
      "Epoch 40/300\n",
      "225/225 [==============================] - 74s 324ms/step - loss: 0.8875 - accuracy: 0.6685 - val_loss: 1.0296 - val_accuracy: 0.6225 - lr: 0.0100\n",
      "Epoch 41/300\n",
      "225/225 [==============================] - 75s 329ms/step - loss: 0.8800 - accuracy: 0.6702 - val_loss: 1.0299 - val_accuracy: 0.6177 - lr: 0.0100\n",
      "Epoch 42/300\n",
      "225/225 [==============================] - 75s 329ms/step - loss: 0.8742 - accuracy: 0.6706 - val_loss: 1.0236 - val_accuracy: 0.6227 - lr: 0.0100\n",
      "Epoch 43/300\n",
      "225/225 [==============================] - 75s 329ms/step - loss: 0.8637 - accuracy: 0.6729 - val_loss: 1.0439 - val_accuracy: 0.6219 - lr: 0.0100\n",
      "Epoch 44/300\n",
      "225/225 [==============================] - 79s 349ms/step - loss: 0.8658 - accuracy: 0.6731 - val_loss: 0.9965 - val_accuracy: 0.6350 - lr: 0.0100\n",
      "Epoch 45/300\n",
      "225/225 [==============================] - 77s 338ms/step - loss: 0.8498 - accuracy: 0.6810 - val_loss: 1.0061 - val_accuracy: 0.6344 - lr: 0.0100\n",
      "Epoch 46/300\n",
      "225/225 [==============================] - 75s 331ms/step - loss: 0.8487 - accuracy: 0.6803 - val_loss: 1.0208 - val_accuracy: 0.6383 - lr: 0.0100\n",
      "Epoch 47/300\n",
      "225/225 [==============================] - 75s 330ms/step - loss: 0.8449 - accuracy: 0.6804 - val_loss: 1.0104 - val_accuracy: 0.6400 - lr: 0.0100\n",
      "Epoch 48/300\n",
      "225/225 [==============================] - 81s 357ms/step - loss: 0.8274 - accuracy: 0.6871 - val_loss: 0.9956 - val_accuracy: 0.6428 - lr: 0.0100\n",
      "Epoch 49/300\n",
      "225/225 [==============================] - 75s 332ms/step - loss: 0.8277 - accuracy: 0.6874 - val_loss: 1.0465 - val_accuracy: 0.6395 - lr: 0.0100\n",
      "Epoch 50/300\n",
      "225/225 [==============================] - 75s 330ms/step - loss: 0.8257 - accuracy: 0.6898 - val_loss: 1.0361 - val_accuracy: 0.6411 - lr: 0.0100\n",
      "Epoch 51/300\n",
      "225/225 [==============================] - 77s 337ms/step - loss: 0.8190 - accuracy: 0.6911 - val_loss: 1.0093 - val_accuracy: 0.6375 - lr: 0.0100\n",
      "Epoch 52/300\n",
      "225/225 [==============================] - 75s 329ms/step - loss: 0.8097 - accuracy: 0.6957 - val_loss: 1.0791 - val_accuracy: 0.6291 - lr: 0.0100\n",
      "Epoch 53/300\n",
      "225/225 [==============================] - 75s 329ms/step - loss: 0.8063 - accuracy: 0.6964 - val_loss: 1.0080 - val_accuracy: 0.6378 - lr: 0.0100\n",
      "Epoch 54/300\n",
      "225/225 [==============================] - 76s 335ms/step - loss: 0.8006 - accuracy: 0.6979 - val_loss: 1.0168 - val_accuracy: 0.6406 - lr: 0.0100\n",
      "Epoch 55/300\n",
      "225/225 [==============================] - 75s 329ms/step - loss: 0.7898 - accuracy: 0.7026 - val_loss: 1.0452 - val_accuracy: 0.6294 - lr: 0.0100\n",
      "Epoch 56/300\n",
      "225/225 [==============================] - 75s 329ms/step - loss: 0.7832 - accuracy: 0.7074 - val_loss: 1.0545 - val_accuracy: 0.6328 - lr: 0.0100\n",
      "Epoch 57/300\n",
      "225/225 [==============================] - 76s 336ms/step - loss: 0.7810 - accuracy: 0.7055 - val_loss: 1.0380 - val_accuracy: 0.6406 - lr: 0.0100\n",
      "Epoch 58/300\n",
      "224/225 [============================>.] - ETA: 0s - loss: 0.7753 - accuracy: 0.7089\n",
      "Epoch 58: ReduceLROnPlateau reducing learning rate to 0.004999999888241291.\n",
      "225/225 [==============================] - 75s 329ms/step - loss: 0.7753 - accuracy: 0.7089 - val_loss: 1.0294 - val_accuracy: 0.6403 - lr: 0.0100\n",
      "Epoch 59/300\n",
      "225/225 [==============================] - 75s 330ms/step - loss: 0.7310 - accuracy: 0.7263 - val_loss: 1.0613 - val_accuracy: 0.6431 - lr: 0.0050\n",
      "Epoch 60/300\n",
      "225/225 [==============================] - 76s 333ms/step - loss: 0.7213 - accuracy: 0.7282 - val_loss: 1.0324 - val_accuracy: 0.6528 - lr: 0.0050\n",
      "Epoch 61/300\n",
      "225/225 [==============================] - 67s 297ms/step - loss: 0.7094 - accuracy: 0.7372 - val_loss: 1.0284 - val_accuracy: 0.6551 - lr: 0.0050\n",
      "Epoch 62/300\n",
      "225/225 [==============================] - 71s 313ms/step - loss: 0.7035 - accuracy: 0.7392 - val_loss: 1.0796 - val_accuracy: 0.6467 - lr: 0.0050\n",
      "Epoch 63/300\n",
      "225/225 [==============================] - 76s 334ms/step - loss: 0.7032 - accuracy: 0.7380 - val_loss: 1.0675 - val_accuracy: 0.6495 - lr: 0.0050\n",
      "Epoch 64/300\n",
      "225/225 [==============================] - 74s 327ms/step - loss: 0.6930 - accuracy: 0.7403 - val_loss: 1.0672 - val_accuracy: 0.6470 - lr: 0.0050\n",
      "Epoch 65/300\n",
      "225/225 [==============================] - 75s 331ms/step - loss: 0.6890 - accuracy: 0.7429 - val_loss: 1.1129 - val_accuracy: 0.6450 - lr: 0.0050\n",
      "Epoch 66/300\n",
      "225/225 [==============================] - 75s 331ms/step - loss: 0.6833 - accuracy: 0.7427 - val_loss: 1.0924 - val_accuracy: 0.6506 - lr: 0.0050\n",
      "Epoch 67/300\n",
      "225/225 [==============================] - 66s 292ms/step - loss: 0.6769 - accuracy: 0.7484 - val_loss: 1.0585 - val_accuracy: 0.6595 - lr: 0.0050\n",
      "Epoch 68/300\n",
      "224/225 [============================>.] - ETA: 0s - loss: 0.6636 - accuracy: 0.7528\n",
      "Epoch 68: ReduceLROnPlateau reducing learning rate to 0.0024999999441206455.\n",
      "225/225 [==============================] - 68s 301ms/step - loss: 0.6638 - accuracy: 0.7527 - val_loss: 1.0933 - val_accuracy: 0.6503 - lr: 0.0050\n",
      "Epoch 69/300\n",
      "225/225 [==============================] - 76s 336ms/step - loss: 0.6427 - accuracy: 0.7595 - val_loss: 1.0936 - val_accuracy: 0.6576 - lr: 0.0025\n",
      "Epoch 70/300\n",
      "225/225 [==============================] - 74s 327ms/step - loss: 0.6400 - accuracy: 0.7600 - val_loss: 1.0941 - val_accuracy: 0.6634 - lr: 0.0025\n",
      "Epoch 71/300\n",
      "225/225 [==============================] - 74s 328ms/step - loss: 0.6326 - accuracy: 0.7656 - val_loss: 1.0855 - val_accuracy: 0.6539 - lr: 0.0025\n",
      "Epoch 72/300\n",
      "225/225 [==============================] - 76s 334ms/step - loss: 0.6282 - accuracy: 0.7662 - val_loss: 1.1010 - val_accuracy: 0.6576 - lr: 0.0025\n",
      "Epoch 73/300\n",
      "225/225 [==============================] - 75s 328ms/step - loss: 0.6151 - accuracy: 0.7689 - val_loss: 1.1213 - val_accuracy: 0.6612 - lr: 0.0025\n",
      "Epoch 74/300\n",
      "225/225 [==============================] - 74s 326ms/step - loss: 0.6172 - accuracy: 0.7694 - val_loss: 1.1127 - val_accuracy: 0.6601 - lr: 0.0025\n",
      "Epoch 75/300\n",
      "225/225 [==============================] - 74s 328ms/step - loss: 0.6154 - accuracy: 0.7706 - val_loss: 1.1037 - val_accuracy: 0.6578 - lr: 0.0025\n",
      "Epoch 76/300\n",
      "225/225 [==============================] - 74s 327ms/step - loss: 0.6106 - accuracy: 0.7725 - val_loss: 1.1280 - val_accuracy: 0.6578 - lr: 0.0025\n",
      "Epoch 77/300\n",
      "225/225 [==============================] - 73s 319ms/step - loss: 0.6144 - accuracy: 0.7716 - val_loss: 1.0966 - val_accuracy: 0.6629 - lr: 0.0025\n",
      "Epoch 78/300\n",
      "225/225 [==============================] - ETA: 0s - loss: 0.6040 - accuracy: 0.7740\n",
      "Epoch 78: ReduceLROnPlateau reducing learning rate to 0.0012499999720603228.\n",
      "225/225 [==============================] - 74s 324ms/step - loss: 0.6040 - accuracy: 0.7740 - val_loss: 1.1167 - val_accuracy: 0.6606 - lr: 0.0025\n",
      "Epoch 78: early stopping\n"
     ]
    }
   ],
   "source": [
    "save_checkpoint = tf.keras.callbacks.ModelCheckpoint(monitor='val_loss', save_best_only=True, filepath=best_model_filepath)\n",
    "early_stop = tf.keras.callbacks.EarlyStopping(monitor='val_loss', patience=30, verbose=1)\n",
    "csv_logger = tf.keras.callbacks.CSVLogger(filename=csv_logger_filepath)\n",
    "tensorboard_callback = tf.keras.callbacks.TensorBoard(log_dir=OUTPUT_DIR)\n",
    "\n",
    "\n",
    "def schedule(epoch) -> float:\n",
    "    if epoch >= 5:\n",
    "        return 0.00005\n",
    "    return 0.0005\n",
    "# reduce_lr = tf.keras.callbacks.LearningRateScheduler(schedule, verbose=0)\n",
    "reduce_lr = tf.keras.callbacks.ReduceLROnPlateau(monitor='val_loss', factor=0.5, patience=10, verbose=1)\n"
   ]
  },
  {
   "cell_type": "markdown",
   "metadata": {
    "id": "LqHRHpMnmxbM",
    "pycharm": {
     "name": "#%% md\n"
    }
   },
   "source": [
    "##### Training"
   ]
  },
  {
   "cell_type": "code",
   "execution_count": 48,
   "metadata": {
    "id": "A6uwwoeKmxbM",
    "colab": {
     "base_uri": "https://localhost:8080/"
    },
    "outputId": "12cbc80e-7645-4351-e186-82d5b7e107a5",
    "pycharm": {
     "name": "#%%\n"
    }
   },
   "outputs": [
    {
     "output_type": "stream",
     "name": "stdout",
     "text": [
      "29/29 [==============================] - 3s 84ms/step - loss: 1.0734 - accuracy: 0.6606\n"
     ]
    },
    {
     "output_type": "execute_result",
     "data": {
      "text/plain": [
       "[1.0733801126480103, 0.6606296896934509]"
      ]
     },
     "metadata": {},
     "execution_count": 48
    }
   ],
   "source": [
    "history = model.fit(\n",
    "        train_ds,\n",
    "        epochs=MAX_EPOCHS,\n",
    "        validation_data=val_ds,\n",
    "        callbacks=[save_checkpoint, csv_logger, reduce_lr, early_stop],\n",
    "        # class_weight=CLASS_WEIGHTS,\n",
    "        workers=10,\n",
    "        # use_multiprocessing=True\n",
    "    )"
   ]
  },
  {
   "cell_type": "markdown",
   "metadata": {
    "id": "ayov6RrOmxbN",
    "pycharm": {
     "name": "#%% md\n"
    }
   },
   "source": [
    "Evaluate model"
   ]
  },
  {
   "cell_type": "code",
   "execution_count": null,
   "outputs": [],
   "source": [
    "# uncomment to load best model\n",
    "# model=tf.keras.models.load_model(best_model_filepath)\n",
    "\n",
    "model.evaluate(test_ds)"
   ],
   "metadata": {
    "collapsed": false,
    "pycharm": {
     "name": "#%%\n"
    }
   }
  },
  {
   "cell_type": "markdown",
   "source": [
    "### VISUALIZATION"
   ],
   "metadata": {
    "collapsed": false,
    "pycharm": {
     "name": "#%% md\n"
    }
   }
  },
  {
   "cell_type": "markdown",
   "metadata": {
    "id": "GTLb_RP0mxbT",
    "pycharm": {
     "name": "#%% md\n"
    }
   },
   "source": [
    "Loss and accuracy history"
   ]
  },
  {
   "cell_type": "code",
   "execution_count": 54,
   "metadata": {
    "id": "cnqdK7sQ5Yas",
    "colab": {
     "base_uri": "https://localhost:8080/",
     "height": 783
    },
    "outputId": "fa1fcc41-5cd9-40c5-ae18-d7325ba927cd",
    "pycharm": {
     "name": "#%%\n"
    }
   },
   "outputs": [
    {
     "output_type": "stream",
     "name": "stdout",
     "text": [
      "29/29 [==============================] - 4s 146ms/step\n"
     ]
    },
    {
     "output_type": "display_data",
     "data": {
      "text/plain": [
       "<Figure size 432x288 with 0 Axes>"
      ]
     },
     "metadata": {}
    },
    {
     "output_type": "display_data",
     "data": {
      "text/plain": [
       "<Figure size 720x720 with 2 Axes>"
      ],
      "image/png": "[encoded data removed]"
     },
     "metadata": {}
    },
    {
     "output_type": "display_data",
     "data": {
      "text/plain": [
       "<Figure size 432x288 with 0 Axes>"
      ]
     },
     "metadata": {}
    }
   ],
   "source": [
    "plt.figure(figsize=(16,8))\n",
    "plt.subplot(1,2,1)\n",
    "plt.plot(history.history['accuracy'])\n",
    "plt.plot(history.history['val_accuracy'])\n",
    "plt.title('model accuracy')\n",
    "plt.ylabel('accuracy')\n",
    "plt.xlabel('epoch')\n",
    "plt.legend(['train', 'test'], loc='upper left')\n",
    "# summarize history for loss\n",
    "\n",
    "plt.subplot(1,2,2)\n",
    "plt.plot(history.history['loss'])\n",
    "plt.plot(history.history['val_loss'])\n",
    "plt.title('model loss')\n",
    "plt.ylabel('loss')\n",
    "plt.xlabel('epoch')\n",
    "plt.legend(['train', 'test'], loc='upper left')\n",
    "\n",
    "plt.savefig(history_filepath, facecolor='white', bbox_inches='tight')\n",
    "plt.show()"
   ]
  },
  {
   "cell_type": "markdown",
   "metadata": {
    "id": "O2PXYpj-mxbX",
    "pycharm": {
     "name": "#%% md\n"
    }
   },
   "source": [
    "Trues and predictions"
   ]
  },
  {
   "cell_type": "code",
   "execution_count": 52,
   "metadata": {
    "id": "CCq6lRF9mxbZ",
    "colab": {
     "base_uri": "https://localhost:8080/"
    },
    "outputId": "e9dc2c9d-c1f0-4bc8-eaa1-95f18ed8926c",
    "pycharm": {
     "name": "#%%\n"
    }
   },
   "outputs": [
    {
     "output_type": "stream",
     "name": "stdout",
     "text": [
      "              precision    recall  f1-score   support\n",
      "\n",
      "       Angry       0.59      0.60      0.59       491\n",
      "     Disgust       0.67      0.56      0.61        55\n",
      "        Fear       0.55      0.41      0.47       528\n",
      "       Happy       0.87      0.87      0.87       879\n",
      "     Neutral       0.59      0.68      0.63       626\n",
      "         Sad       0.51      0.50      0.51       594\n",
      "    Surprise       0.74      0.82      0.78       416\n",
      "\n",
      "    accuracy                           0.66      3589\n",
      "   macro avg       0.65      0.63      0.64      3589\n",
      "weighted avg       0.66      0.66      0.66      3589\n",
      "\n"
     ]
    }
   ],
   "source": [
    "# show the confusion matrix of our predictions\n",
    "\n",
    "# compute predictions\n",
    "predictions = model.predict(test_ds)\n",
    "preds = [np.argmax(probas) for probas in predictions]\n",
    "trues = np.concatenate([y for x, y in test_ds], axis=0)\n",
    "trues = [np.argmax(t) for t in trues]\n",
    "class_names = class_names\n",
    "\n",
    "from sklearn.metrics import confusion_matrix\n",
    "import itertools\n",
    "\n",
    "def plot_confusion_matrix(cm, classes, title='Confusion matrix', cmap=plt.cm.Blues):\n",
    "    cm = cm.astype('float') / cm.sum(axis=1)[:, np.newaxis]\n",
    "    plt.figure(figsize=(10,10))\n",
    "    plt.imshow(cm, interpolation='nearest', cmap=cmap)\n",
    "    plt.title(title)\n",
    "    plt.colorbar()\n",
    "    tick_marks = np.arange(len(classes))\n",
    "    plt.xticks(tick_marks, classes)\n",
    "    plt.yticks(tick_marks, classes)\n",
    "\n",
    "    fmt = '.2f'\n",
    "    thresh = cm.max() / 2.\n",
    "    for i, j in itertools.product(range(cm.shape[0]), range(cm.shape[1])):\n",
    "        plt.text(j, i, format(cm[i, j], fmt),\n",
    "                 horizontalalignment=\"center\",\n",
    "                 color=\"white\" if cm[i, j] > thresh else \"black\")\n",
    "\n",
    "    plt.ylabel('True label')\n",
    "    plt.xlabel('Predicted label')\n",
    "    plt.tight_layout()\n",
    "    \n",
    "# compute confusion matrix\n",
    "cnf_matrix = confusion_matrix(trues, preds)\n",
    "np.set_printoptions(precision=2)\n",
    "\n",
    "# plot normalized confusion matrix\n",
    "plt.figure()\n",
    "plot_confusion_matrix(cnf_matrix, classes=class_names, title='Normalized confusion matrix')\n",
    "plt.show()\n",
    "plt.savefig(confusion_matrix_norm_filepath, facecolor='white', bbox_inches='tight')"
   ]
  },
  {
   "cell_type": "markdown",
   "metadata": {
    "id": "ISB8rY6dmxbZ",
    "pycharm": {
     "name": "#%% md\n"
    }
   },
   "source": [
    "Classification report"
   ]
  },
  {
   "cell_type": "code",
   "execution_count": 53,
   "metadata": {
    "id": "QEh9Rv2mmxba",
    "colab": {
     "base_uri": "https://localhost:8080/",
     "height": 297
    },
    "outputId": "c1fc72de-da32-4636-c38c-5fc02e047db0",
    "pycharm": {
     "name": "#%%\n"
    }
   },
   "outputs": [
    {
     "output_type": "display_data",
     "data": {
      "text/plain": [
       "<Figure size 720x720 with 0 Axes>"
      ]
     },
     "metadata": {}
    },
    {
     "output_type": "display_data",
     "data": {
      "text/plain": [
       "<Figure size 432x288 with 2 Axes>"
      ],
      "image/png": "[encoded data removed]"
     },
     "metadata": {}
    }
   ],
   "source": [
    "cr=classification_report(trues,preds,target_names=class_names)\n",
    "cm = np.array2string(confusion_matrix(trues, preds))\n",
    "with open(report_filepath, 'w') as f:\n",
    "    f.write(f'Title\\n\\nClassification Report\\n\\n{cr}\\n\\nConfusion Matrix\\n\\n{cm}\\n')\n",
    "\n",
    "print(cr)"
   ]
  },
  {
   "cell_type": "markdown",
   "source": [
    "Confusion matrix"
   ],
   "metadata": {
    "collapsed": false,
    "pycharm": {
     "name": "#%% md\n"
    }
   }
  },
  {
   "cell_type": "code",
   "execution_count": null,
   "outputs": [],
   "source": [
    "cm=confusion_matrix(trues, preds, normalize='pred')\n",
    "plt.figure(figsize=(10,10))\n",
    "np.set_printoptions(precision=2)\n",
    "disp = ConfusionMatrixDisplay(cm)\n",
    "disp.plot()\n",
    "plt.savefig(confusion_matrix_filepath, facecolor='white', bbox_inches='tight')"
   ],
   "metadata": {
    "collapsed": false,
    "pycharm": {
     "name": "#%%\n"
    }
   }
  }
 ],
 "metadata": {
  "accelerator": "GPU",
  "colab": {
   "collapsed_sections": [
    "ayov6RrOmxbN"
   ],
   "provenance": []
  },
  "gpuClass": "standard",
  "kernelspec": {
   "display_name": "Python 3 (ipykernel)",
   "language": "python",
   "name": "python3"
  },
  "language_info": {
   "codemirror_mode": {
    "name": "ipython",
    "version": 3
   },
   "file_extension": ".py",
   "mimetype": "text/x-python",
   "name": "python",
   "nbconvert_exporter": "python",
   "pygments_lexer": "ipython3",
   "version": "3.9.13"
  }
 },
 "nbformat": 4,
 "nbformat_minor": 0
}