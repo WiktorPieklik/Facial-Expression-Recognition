{
 "cells": [
  {
   "cell_type": "markdown",
   "metadata": {
    "id": "EwAFUL7lmxaP",
    "pycharm": {
     "name": "#%% md\n"
    }
   },
   "source": [
    "Resnet34 model as proposed here: https://arxiv.org/pdf/1612.02903v1.pdf\n"
   ]
  },
  {
   "cell_type": "markdown",
   "metadata": {
    "id": "_pVgf65kmxaS",
    "pycharm": {
     "name": "#%% md\n"
    }
   },
   "source": [
    "Imports"
   ]
  },
  {
   "cell_type": "code",
   "execution_count": 1,
   "metadata": {
    "id": "5Pg1qLRUnDI3",
    "colab": {
     "base_uri": "https://localhost:8080/"
    },
    "outputId": "a0f5da9e-9c18-4523-8a62-ec061e033999",
    "pycharm": {
     "name": "#%%\n"
    }
   },
   "outputs": [
    {
     "output_type": "stream",
     "name": "stdout",
     "text": [
      "Mounted at /content/drive\n"
     ]
    }
   ],
   "source": [
    "from google.colab import drive\n",
    "drive.mount('/content/drive')"
   ]
  },
  {
   "cell_type": "code",
   "execution_count": null,
   "metadata": {
    "id": "fnkjEn4xYnXJ",
    "pycharm": {
     "name": "#%%\n"
    }
   },
   "outputs": [],
   "source": [
    "!git lfs install\n",
    "!git clone https://github.com/WiktorPieklik/Facial-Expression-Recognition.git\n",
    "!cd /content/Facial-Expression-Recognition && git checkout custom-net"
   ]
  },
  {
   "cell_type": "code",
   "execution_count": 3,
   "metadata": {
    "collapsed": true,
    "id": "TE33ytvdb94V",
    "pycharm": {
     "name": "#%%\n"
    }
   },
   "outputs": [],
   "source": [
    "!python /content/Facial-Expression-Recognition/install.py"
   ]
  },
  {
   "cell_type": "code",
   "execution_count": null,
   "metadata": {
    "id": "ObciY53JY_07",
    "pycharm": {
     "name": "#%%\n"
    }
   },
   "outputs": [],
   "source": [
    "!cd /content/Facial-Expression-Recognition && python /content/Facial-Expression-Recognition/setup_dataset.py"
   ]
  },
  {
   "cell_type": "code",
   "execution_count": null,
   "metadata": {
    "id": "tt57e3m5QISA",
    "pycharm": {
     "name": "#%%\n"
    }
   },
   "outputs": [],
   "source": [
    "# !cp -r \"/content/drive/My Drive/TAI/II/Neural-networks/data/\" \"/content/sample_data/fer\""
   ]
  },
  {
   "cell_type": "code",
   "execution_count": 5,
   "metadata": {
    "id": "LKzza7Xxmxaa",
    "pycharm": {
     "name": "#%%\n"
    }
   },
   "outputs": [],
   "source": [
    "import os\n",
    "import datetime\n",
    "from pathlib import Path\n",
    "\n",
    "import matplotlib.pyplot as plt\n",
    "import numpy as np\n",
    "import imgaug.augmenters as iaa\n",
    "\n",
    "import tensorflow as tf\n",
    "\n",
    "from sklearn.metrics import confusion_matrix, ConfusionMatrixDisplay, classification_report"
   ]
  },
  {
   "cell_type": "markdown",
   "metadata": {
    "id": "-jnnoBwdmxac",
    "pycharm": {
     "name": "#%% md\n"
    }
   },
   "source": [
    "Debbuging options"
   ]
  },
  {
   "cell_type": "code",
   "execution_count": null,
   "metadata": {
    "id": "72COZnZhmxad",
    "pycharm": {
     "name": "#%%\n"
    }
   },
   "outputs": [],
   "source": [
    "# uncomment to log device placement of each operation\n",
    "# tf.debugging.set_log_device_placement(True)"
   ]
  },
  {
   "cell_type": "markdown",
   "metadata": {
    "id": "ZHCGFvwAmxag",
    "pycharm": {
     "name": "#%% md\n"
    }
   },
   "source": [
    "Check GPU"
   ]
  },
  {
   "cell_type": "code",
   "execution_count": 6,
   "metadata": {
    "colab": {
     "base_uri": "https://localhost:8080/"
    },
    "id": "p0e6s5n-mxal",
    "outputId": "3e41b3b2-9ea6-4643-8960-8c93c283ef1f",
    "pycharm": {
     "name": "#%%\n"
    }
   },
   "outputs": [
    {
     "output_type": "stream",
     "name": "stdout",
     "text": [
      "Num GPUs Available:  1\n"
     ]
    }
   ],
   "source": [
    "print(\"Num GPUs Available: \", len(tf.config.experimental.list_physical_devices('GPU')))\n",
    "physical_devices = tf.config.list_physical_devices('GPU')\n",
    "try:\n",
    "  tf.config.experimental.set_memory_growth(physical_devices[0], True)\n",
    "except:\n",
    "  # Invalid device or cannot modify virtual devices once initialized.\n",
    "  pass"
   ]
  },
  {
   "cell_type": "markdown",
   "metadata": {
    "id": "fFoiiWKdmxao",
    "pycharm": {
     "name": "#%% md\n"
    }
   },
   "source": [
    "## Parameters"
   ]
  },
  {
   "cell_type": "code",
   "execution_count": 9,
   "metadata": {
    "id": "tiKQ09xTmxaq",
    "pycharm": {
     "name": "#%%\n"
    }
   },
   "outputs": [],
   "source": [
    "IMG_SIZE=(48,48)\n",
    "INPUT_SHAPE=IMG_SIZE + (1,)\n",
    "\n",
    "# Choose resize method. The options are:\n",
    "# area, bicubic, bilinear, gaussian, lanczos3, lanczos5, mitchellcubic, nearest\n",
    "INTERPOLATION = \"bilinear\"\n",
    "\n",
    "BATCH_SIZE=128\n",
    "MAX_EPOCHS = 300\n",
    "NUM_CLASSES=7\n",
    "CLASS_WEIGHTS= {0: 1, 1: 1}\n",
    "CLASS_NAMES=[]\n",
    "\n",
    "\n",
    "SEED=1234"
   ]
  },
  {
   "cell_type": "markdown",
   "metadata": {
    "id": "u3DZJJfVmxar",
    "pycharm": {
     "name": "#%% md\n"
    }
   },
   "source": [
    "Paths"
   ]
  },
  {
   "cell_type": "code",
   "execution_count": 10,
   "metadata": {
    "id": "SFNDLttymxas",
    "pycharm": {
     "name": "#%%\n"
    }
   },
   "outputs": [],
   "source": [
    "# # choose data directory\n",
    "TRAIN_DATA_PATH=Path('/content/Facial-Expression-Recognition/raw/images/Training')\n",
    "VAL_DATA_PATH=Path('/content/Facial-Expression-Recognition/raw/images/PublicTest')\n",
    "TEST_DATA_PATH=Path('/content/Facial-Expression-Recognition/raw/images/PrivateTest')\n",
    "# choose logs directory\n",
    "LOG_DIR = Path('/content/drive/My Drive/TAI/II/Neural-networks/notebooks/logs')"
   ]
  },
  {
   "cell_type": "code",
   "execution_count": 11,
   "metadata": {
    "id": "7P_uY9upmxat",
    "pycharm": {
     "name": "#%%\n"
    }
   },
   "outputs": [],
   "source": [
    "# name your experiment\n",
    "EXPERIMENT = \"Facial-Expression-Recognition-with-Resnet34\""
   ]
  },
  {
   "cell_type": "code",
   "execution_count": 12,
   "metadata": {
    "id": "mhY1p9PUmxav",
    "pycharm": {
     "name": "#%%\n"
    }
   },
   "outputs": [],
   "source": [
    "OUTPUT_DIR = LOG_DIR / EXPERIMENT / 'trial_{:02}'\n",
    "counter=1\n",
    "while os.path.exists(str(OUTPUT_DIR).format(counter)):\n",
    "    counter += 1\n",
    "OUTPUT_DIR = Path(str(OUTPUT_DIR).format(counter))\n",
    "os.makedirs(OUTPUT_DIR, exist_ok = True)"
   ]
  },
  {
   "cell_type": "code",
   "execution_count": 25,
   "metadata": {
    "id": "_sxkE1Pkmxay",
    "pycharm": {
     "name": "#%%\n"
    }
   },
   "outputs": [],
   "source": [
    "summary_filepath = OUTPUT_DIR / 'model.txt'\n",
    "best_model_filepath = OUTPUT_DIR / f'model.h5'\n",
    "csv_logger_filepath = OUTPUT_DIR / f'training.log'\n",
    "history_filepath = OUTPUT_DIR / f'training_history.png'\n",
    "report_filepath = OUTPUT_DIR / 'report.txt'\n",
    "confusion_matrix_norm_filepath = OUTPUT_DIR / f'confusion_matrix_norm.png'\n",
    "confusion_matrix_filepath = OUTPUT_DIR / f'confusion_matrix.png'"
   ]
  },
  {
   "cell_type": "markdown",
   "metadata": {
    "id": "tHw8Lgm1mxaz",
    "pycharm": {
     "name": "#%% md\n"
    }
   },
   "source": [
    "## DATA INPUT PIPELINE"
   ]
  },
  {
   "cell_type": "markdown",
   "metadata": {
    "id": "1ahtMkSGmxa3",
    "pycharm": {
     "name": "#%% md\n"
    }
   },
   "source": [
    "Load datasets"
   ]
  },
  {
   "cell_type": "code",
   "execution_count": 14,
   "metadata": {
    "colab": {
     "base_uri": "https://localhost:8080/"
    },
    "id": "XPsHaGrfmxa3",
    "outputId": "2ceabc7d-27b7-4c64-d6b1-845d8aa0de39",
    "pycharm": {
     "name": "#%%\n"
    }
   },
   "outputs": [
    {
     "output_type": "stream",
     "name": "stdout",
     "text": [
      "Found 28709 files belonging to 7 classes.\n",
      "Found 3589 files belonging to 7 classes.\n",
      "Found 3589 files belonging to 7 classes.\n"
     ]
    }
   ],
   "source": [
    "from keras.preprocessing.image import ImageDataGenerator\n",
    "\n",
    "\n",
    "train_ds = tf.keras.utils.image_dataset_from_directory(\n",
    "        TRAIN_DATA_PATH,\n",
    "        color_mode='grayscale',\n",
    "        label_mode='categorical',\n",
    "        image_size=IMG_SIZE,\n",
    "        batch_size=BATCH_SIZE,\n",
    "        shuffle=True)\n",
    "\n",
    "val_ds = tf.keras.utils.image_dataset_from_directory(\n",
    "        VAL_DATA_PATH,\n",
    "        color_mode='grayscale',\n",
    "        label_mode='categorical',\n",
    "        image_size=IMG_SIZE,\n",
    "        batch_size=BATCH_SIZE,\n",
    "        shuffle=False)\n",
    "\n",
    "test_ds = tf.keras.utils.image_dataset_from_directory(\n",
    "        TEST_DATA_PATH,\n",
    "        color_mode='grayscale',\n",
    "        label_mode='categorical',\n",
    "        image_size=IMG_SIZE,\n",
    "        batch_size=BATCH_SIZE,\n",
    "        shuffle=False)\n",
    "\n",
    "class_names = train_ds.class_names"
   ]
  },
  {
   "cell_type": "code",
   "execution_count": 62,
   "metadata": {
    "id": "sqa4mlUDqjEi",
    "pycharm": {
     "name": "#%%\n"
    }
   },
   "outputs": [],
   "source": [
    "# labels = [np.argmax(y) for x, y in train_ds]\n",
    "# neg, pos = np.bincount(labels)\n",
    "# total = neg + pos\n",
    "\n",
    "# # Scaling by total/2 helps keep the loss to a similar magnitude.\n",
    "# # The sum of the weights of all examples stays the same.\n",
    "# weight_for_0 = (1 / neg) * (total / 2.0)\n",
    "# weight_for_1 = (1 / pos) * (total / 2.0)\n",
    "\n",
    "\n",
    "# CLASS_WEIGHTS = {0: weight_for_0, 1: weight_for_1}\n",
    "\n",
    "# print('Weight for class 0: {:.2f}'.format(weight_for_0))\n",
    "# print('Weight for class 1: {:.2f}'.format(weight_for_1))"
   ]
  },
  {
   "cell_type": "markdown",
   "metadata": {
    "id": "aZA5y4flmxa7",
    "pycharm": {
     "name": "#%% md\n"
    }
   },
   "source": [
    "Show images"
   ]
  },
  {
   "cell_type": "code",
   "execution_count": 63,
   "metadata": {
    "id": "5qESNpp5mxa7",
    "pycharm": {
     "name": "#%%\n"
    }
   },
   "outputs": [],
   "source": [
    "# for _ in range(5):\n",
    "#     img, label = train_ds.next()\n",
    "#     print(img.shape)   #  (1,256,256,3)\n",
    "#     plt.imshow(img[0][:,:,0], cmap=\"gray\")\n",
    "#     plt.show()"
   ]
  },
  {
   "cell_type": "markdown",
   "metadata": {
    "id": "iP4z6uuQmxa9",
    "pycharm": {
     "name": "#%% md\n"
    }
   },
   "source": [
    "##### Build model"
   ]
  },
  {
   "cell_type": "code",
   "execution_count": 16,
   "metadata": {
    "colab": {
     "base_uri": "https://localhost:8080/"
    },
    "id": "H-3Mg7Xumxa9",
    "outputId": "b5ec52d0-5339-4193-d294-1fccab79a46b",
    "pycharm": {
     "name": "#%%\n"
    }
   },
   "outputs": [
    {
     "output_type": "stream",
     "name": "stdout",
     "text": [
      "Model: \"ResNet34\"\n",
      "__________________________________________________________________________________________________\n",
      " Layer (type)                   Output Shape         Param #     Connected to                     \n",
      "==================================================================================================\n",
      " input_2 (InputLayer)           [(None, 48, 48, 1)]  0           []                               \n",
      "                                                                                                  \n",
      " zero_padding2d_1 (ZeroPadding2  (None, 54, 54, 1)   0           ['input_2[0][0]']                \n",
      " D)                                                                                               \n",
      "                                                                                                  \n",
      " conv2d_1 (Conv2D)              (None, 27, 27, 64)   3200        ['zero_padding2d_1[0][0]']       \n",
      "                                                                                                  \n",
      " batch_normalization_1 (BatchNo  (None, 27, 27, 64)  256         ['conv2d_1[0][0]']               \n",
      " rmalization)                                                                                     \n",
      "                                                                                                  \n",
      " activation_1 (Activation)      (None, 27, 27, 64)   0           ['batch_normalization_1[0][0]']  \n",
      "                                                                                                  \n",
      " max_pooling2d_1 (MaxPooling2D)  (None, 14, 14, 64)  0           ['activation_1[0][0]']           \n",
      "                                                                                                  \n",
      " conv2d_2 (Conv2D)              (None, 14, 14, 64)   36928       ['max_pooling2d_1[0][0]']        \n",
      "                                                                                                  \n",
      " batch_normalization_2 (BatchNo  (None, 14, 14, 64)  256         ['conv2d_2[0][0]']               \n",
      " rmalization)                                                                                     \n",
      "                                                                                                  \n",
      " activation_2 (Activation)      (None, 14, 14, 64)   0           ['batch_normalization_2[0][0]']  \n",
      "                                                                                                  \n",
      " conv2d_3 (Conv2D)              (None, 14, 14, 64)   36928       ['activation_2[0][0]']           \n",
      "                                                                                                  \n",
      " batch_normalization_3 (BatchNo  (None, 14, 14, 64)  256         ['conv2d_3[0][0]']               \n",
      " rmalization)                                                                                     \n",
      "                                                                                                  \n",
      " add (Add)                      (None, 14, 14, 64)   0           ['batch_normalization_3[0][0]',  \n",
      "                                                                  'max_pooling2d_1[0][0]']        \n",
      "                                                                                                  \n",
      " activation_3 (Activation)      (None, 14, 14, 64)   0           ['add[0][0]']                    \n",
      "                                                                                                  \n",
      " conv2d_4 (Conv2D)              (None, 14, 14, 64)   36928       ['activation_3[0][0]']           \n",
      "                                                                                                  \n",
      " batch_normalization_4 (BatchNo  (None, 14, 14, 64)  256         ['conv2d_4[0][0]']               \n",
      " rmalization)                                                                                     \n",
      "                                                                                                  \n",
      " activation_4 (Activation)      (None, 14, 14, 64)   0           ['batch_normalization_4[0][0]']  \n",
      "                                                                                                  \n",
      " conv2d_5 (Conv2D)              (None, 14, 14, 64)   36928       ['activation_4[0][0]']           \n",
      "                                                                                                  \n",
      " batch_normalization_5 (BatchNo  (None, 14, 14, 64)  256         ['conv2d_5[0][0]']               \n",
      " rmalization)                                                                                     \n",
      "                                                                                                  \n",
      " add_1 (Add)                    (None, 14, 14, 64)   0           ['batch_normalization_5[0][0]',  \n",
      "                                                                  'activation_3[0][0]']           \n",
      "                                                                                                  \n",
      " activation_5 (Activation)      (None, 14, 14, 64)   0           ['add_1[0][0]']                  \n",
      "                                                                                                  \n",
      " conv2d_6 (Conv2D)              (None, 14, 14, 64)   36928       ['activation_5[0][0]']           \n",
      "                                                                                                  \n",
      " batch_normalization_6 (BatchNo  (None, 14, 14, 64)  256         ['conv2d_6[0][0]']               \n",
      " rmalization)                                                                                     \n",
      "                                                                                                  \n",
      " activation_6 (Activation)      (None, 14, 14, 64)   0           ['batch_normalization_6[0][0]']  \n",
      "                                                                                                  \n",
      " conv2d_7 (Conv2D)              (None, 14, 14, 64)   36928       ['activation_6[0][0]']           \n",
      "                                                                                                  \n",
      " batch_normalization_7 (BatchNo  (None, 14, 14, 64)  256         ['conv2d_7[0][0]']               \n",
      " rmalization)                                                                                     \n",
      "                                                                                                  \n",
      " add_2 (Add)                    (None, 14, 14, 64)   0           ['batch_normalization_7[0][0]',  \n",
      "                                                                  'activation_5[0][0]']           \n",
      "                                                                                                  \n",
      " activation_7 (Activation)      (None, 14, 14, 64)   0           ['add_2[0][0]']                  \n",
      "                                                                                                  \n",
      " conv2d_8 (Conv2D)              (None, 7, 7, 128)    73856       ['activation_7[0][0]']           \n",
      "                                                                                                  \n",
      " batch_normalization_8 (BatchNo  (None, 7, 7, 128)   512         ['conv2d_8[0][0]']               \n",
      " rmalization)                                                                                     \n",
      "                                                                                                  \n",
      " activation_8 (Activation)      (None, 7, 7, 128)    0           ['batch_normalization_8[0][0]']  \n",
      "                                                                                                  \n",
      " conv2d_9 (Conv2D)              (None, 7, 7, 128)    147584      ['activation_8[0][0]']           \n",
      "                                                                                                  \n",
      " batch_normalization_9 (BatchNo  (None, 7, 7, 128)   512         ['conv2d_9[0][0]']               \n",
      " rmalization)                                                                                     \n",
      "                                                                                                  \n",
      " conv2d_10 (Conv2D)             (None, 7, 7, 128)    8320        ['activation_7[0][0]']           \n",
      "                                                                                                  \n",
      " add_3 (Add)                    (None, 7, 7, 128)    0           ['batch_normalization_9[0][0]',  \n",
      "                                                                  'conv2d_10[0][0]']              \n",
      "                                                                                                  \n",
      " activation_9 (Activation)      (None, 7, 7, 128)    0           ['add_3[0][0]']                  \n",
      "                                                                                                  \n",
      " conv2d_11 (Conv2D)             (None, 7, 7, 128)    147584      ['activation_9[0][0]']           \n",
      "                                                                                                  \n",
      " batch_normalization_10 (BatchN  (None, 7, 7, 128)   512         ['conv2d_11[0][0]']              \n",
      " ormalization)                                                                                    \n",
      "                                                                                                  \n",
      " activation_10 (Activation)     (None, 7, 7, 128)    0           ['batch_normalization_10[0][0]'] \n",
      "                                                                                                  \n",
      " conv2d_12 (Conv2D)             (None, 7, 7, 128)    147584      ['activation_10[0][0]']          \n",
      "                                                                                                  \n",
      " batch_normalization_11 (BatchN  (None, 7, 7, 128)   512         ['conv2d_12[0][0]']              \n",
      " ormalization)                                                                                    \n",
      "                                                                                                  \n",
      " add_4 (Add)                    (None, 7, 7, 128)    0           ['batch_normalization_11[0][0]', \n",
      "                                                                  'activation_9[0][0]']           \n",
      "                                                                                                  \n",
      " activation_11 (Activation)     (None, 7, 7, 128)    0           ['add_4[0][0]']                  \n",
      "                                                                                                  \n",
      " conv2d_13 (Conv2D)             (None, 7, 7, 128)    147584      ['activation_11[0][0]']          \n",
      "                                                                                                  \n",
      " batch_normalization_12 (BatchN  (None, 7, 7, 128)   512         ['conv2d_13[0][0]']              \n",
      " ormalization)                                                                                    \n",
      "                                                                                                  \n",
      " activation_12 (Activation)     (None, 7, 7, 128)    0           ['batch_normalization_12[0][0]'] \n",
      "                                                                                                  \n",
      " conv2d_14 (Conv2D)             (None, 7, 7, 128)    147584      ['activation_12[0][0]']          \n",
      "                                                                                                  \n",
      " batch_normalization_13 (BatchN  (None, 7, 7, 128)   512         ['conv2d_14[0][0]']              \n",
      " ormalization)                                                                                    \n",
      "                                                                                                  \n",
      " add_5 (Add)                    (None, 7, 7, 128)    0           ['batch_normalization_13[0][0]', \n",
      "                                                                  'activation_11[0][0]']          \n",
      "                                                                                                  \n",
      " activation_13 (Activation)     (None, 7, 7, 128)    0           ['add_5[0][0]']                  \n",
      "                                                                                                  \n",
      " conv2d_15 (Conv2D)             (None, 7, 7, 128)    147584      ['activation_13[0][0]']          \n",
      "                                                                                                  \n",
      " batch_normalization_14 (BatchN  (None, 7, 7, 128)   512         ['conv2d_15[0][0]']              \n",
      " ormalization)                                                                                    \n",
      "                                                                                                  \n",
      " activation_14 (Activation)     (None, 7, 7, 128)    0           ['batch_normalization_14[0][0]'] \n",
      "                                                                                                  \n",
      " conv2d_16 (Conv2D)             (None, 7, 7, 128)    147584      ['activation_14[0][0]']          \n",
      "                                                                                                  \n",
      " batch_normalization_15 (BatchN  (None, 7, 7, 128)   512         ['conv2d_16[0][0]']              \n",
      " ormalization)                                                                                    \n",
      "                                                                                                  \n",
      " add_6 (Add)                    (None, 7, 7, 128)    0           ['batch_normalization_15[0][0]', \n",
      "                                                                  'activation_13[0][0]']          \n",
      "                                                                                                  \n",
      " activation_15 (Activation)     (None, 7, 7, 128)    0           ['add_6[0][0]']                  \n",
      "                                                                                                  \n",
      " conv2d_17 (Conv2D)             (None, 4, 4, 256)    295168      ['activation_15[0][0]']          \n",
      "                                                                                                  \n",
      " batch_normalization_16 (BatchN  (None, 4, 4, 256)   1024        ['conv2d_17[0][0]']              \n",
      " ormalization)                                                                                    \n",
      "                                                                                                  \n",
      " activation_16 (Activation)     (None, 4, 4, 256)    0           ['batch_normalization_16[0][0]'] \n",
      "                                                                                                  \n",
      " conv2d_18 (Conv2D)             (None, 4, 4, 256)    590080      ['activation_16[0][0]']          \n",
      "                                                                                                  \n",
      " batch_normalization_17 (BatchN  (None, 4, 4, 256)   1024        ['conv2d_18[0][0]']              \n",
      " ormalization)                                                                                    \n",
      "                                                                                                  \n",
      " conv2d_19 (Conv2D)             (None, 4, 4, 256)    33024       ['activation_15[0][0]']          \n",
      "                                                                                                  \n",
      " add_7 (Add)                    (None, 4, 4, 256)    0           ['batch_normalization_17[0][0]', \n",
      "                                                                  'conv2d_19[0][0]']              \n",
      "                                                                                                  \n",
      " activation_17 (Activation)     (None, 4, 4, 256)    0           ['add_7[0][0]']                  \n",
      "                                                                                                  \n",
      " conv2d_20 (Conv2D)             (None, 4, 4, 256)    590080      ['activation_17[0][0]']          \n",
      "                                                                                                  \n",
      " batch_normalization_18 (BatchN  (None, 4, 4, 256)   1024        ['conv2d_20[0][0]']              \n",
      " ormalization)                                                                                    \n",
      "                                                                                                  \n",
      " activation_18 (Activation)     (None, 4, 4, 256)    0           ['batch_normalization_18[0][0]'] \n",
      "                                                                                                  \n",
      " conv2d_21 (Conv2D)             (None, 4, 4, 256)    590080      ['activation_18[0][0]']          \n",
      "                                                                                                  \n",
      " batch_normalization_19 (BatchN  (None, 4, 4, 256)   1024        ['conv2d_21[0][0]']              \n",
      " ormalization)                                                                                    \n",
      "                                                                                                  \n",
      " add_8 (Add)                    (None, 4, 4, 256)    0           ['batch_normalization_19[0][0]', \n",
      "                                                                  'activation_17[0][0]']          \n",
      "                                                                                                  \n",
      " activation_19 (Activation)     (None, 4, 4, 256)    0           ['add_8[0][0]']                  \n",
      "                                                                                                  \n",
      " conv2d_22 (Conv2D)             (None, 4, 4, 256)    590080      ['activation_19[0][0]']          \n",
      "                                                                                                  \n",
      " batch_normalization_20 (BatchN  (None, 4, 4, 256)   1024        ['conv2d_22[0][0]']              \n",
      " ormalization)                                                                                    \n",
      "                                                                                                  \n",
      " activation_20 (Activation)     (None, 4, 4, 256)    0           ['batch_normalization_20[0][0]'] \n",
      "                                                                                                  \n",
      " conv2d_23 (Conv2D)             (None, 4, 4, 256)    590080      ['activation_20[0][0]']          \n",
      "                                                                                                  \n",
      " batch_normalization_21 (BatchN  (None, 4, 4, 256)   1024        ['conv2d_23[0][0]']              \n",
      " ormalization)                                                                                    \n",
      "                                                                                                  \n",
      " add_9 (Add)                    (None, 4, 4, 256)    0           ['batch_normalization_21[0][0]', \n",
      "                                                                  'activation_19[0][0]']          \n",
      "                                                                                                  \n",
      " activation_21 (Activation)     (None, 4, 4, 256)    0           ['add_9[0][0]']                  \n",
      "                                                                                                  \n",
      " conv2d_24 (Conv2D)             (None, 4, 4, 256)    590080      ['activation_21[0][0]']          \n",
      "                                                                                                  \n",
      " batch_normalization_22 (BatchN  (None, 4, 4, 256)   1024        ['conv2d_24[0][0]']              \n",
      " ormalization)                                                                                    \n",
      "                                                                                                  \n",
      " activation_22 (Activation)     (None, 4, 4, 256)    0           ['batch_normalization_22[0][0]'] \n",
      "                                                                                                  \n",
      " conv2d_25 (Conv2D)             (None, 4, 4, 256)    590080      ['activation_22[0][0]']          \n",
      "                                                                                                  \n",
      " batch_normalization_23 (BatchN  (None, 4, 4, 256)   1024        ['conv2d_25[0][0]']              \n",
      " ormalization)                                                                                    \n",
      "                                                                                                  \n",
      " add_10 (Add)                   (None, 4, 4, 256)    0           ['batch_normalization_23[0][0]', \n",
      "                                                                  'activation_21[0][0]']          \n",
      "                                                                                                  \n",
      " activation_23 (Activation)     (None, 4, 4, 256)    0           ['add_10[0][0]']                 \n",
      "                                                                                                  \n",
      " conv2d_26 (Conv2D)             (None, 4, 4, 256)    590080      ['activation_23[0][0]']          \n",
      "                                                                                                  \n",
      " batch_normalization_24 (BatchN  (None, 4, 4, 256)   1024        ['conv2d_26[0][0]']              \n",
      " ormalization)                                                                                    \n",
      "                                                                                                  \n",
      " activation_24 (Activation)     (None, 4, 4, 256)    0           ['batch_normalization_24[0][0]'] \n",
      "                                                                                                  \n",
      " conv2d_27 (Conv2D)             (None, 4, 4, 256)    590080      ['activation_24[0][0]']          \n",
      "                                                                                                  \n",
      " batch_normalization_25 (BatchN  (None, 4, 4, 256)   1024        ['conv2d_27[0][0]']              \n",
      " ormalization)                                                                                    \n",
      "                                                                                                  \n",
      " add_11 (Add)                   (None, 4, 4, 256)    0           ['batch_normalization_25[0][0]', \n",
      "                                                                  'activation_23[0][0]']          \n",
      "                                                                                                  \n",
      " activation_25 (Activation)     (None, 4, 4, 256)    0           ['add_11[0][0]']                 \n",
      "                                                                                                  \n",
      " conv2d_28 (Conv2D)             (None, 4, 4, 256)    590080      ['activation_25[0][0]']          \n",
      "                                                                                                  \n",
      " batch_normalization_26 (BatchN  (None, 4, 4, 256)   1024        ['conv2d_28[0][0]']              \n",
      " ormalization)                                                                                    \n",
      "                                                                                                  \n",
      " activation_26 (Activation)     (None, 4, 4, 256)    0           ['batch_normalization_26[0][0]'] \n",
      "                                                                                                  \n",
      " conv2d_29 (Conv2D)             (None, 4, 4, 256)    590080      ['activation_26[0][0]']          \n",
      "                                                                                                  \n",
      " batch_normalization_27 (BatchN  (None, 4, 4, 256)   1024        ['conv2d_29[0][0]']              \n",
      " ormalization)                                                                                    \n",
      "                                                                                                  \n",
      " add_12 (Add)                   (None, 4, 4, 256)    0           ['batch_normalization_27[0][0]', \n",
      "                                                                  'activation_25[0][0]']          \n",
      "                                                                                                  \n",
      " activation_27 (Activation)     (None, 4, 4, 256)    0           ['add_12[0][0]']                 \n",
      "                                                                                                  \n",
      " conv2d_30 (Conv2D)             (None, 2, 2, 512)    1180160     ['activation_27[0][0]']          \n",
      "                                                                                                  \n",
      " batch_normalization_28 (BatchN  (None, 2, 2, 512)   2048        ['conv2d_30[0][0]']              \n",
      " ormalization)                                                                                    \n",
      "                                                                                                  \n",
      " activation_28 (Activation)     (None, 2, 2, 512)    0           ['batch_normalization_28[0][0]'] \n",
      "                                                                                                  \n",
      " conv2d_31 (Conv2D)             (None, 2, 2, 512)    2359808     ['activation_28[0][0]']          \n",
      "                                                                                                  \n",
      " batch_normalization_29 (BatchN  (None, 2, 2, 512)   2048        ['conv2d_31[0][0]']              \n",
      " ormalization)                                                                                    \n",
      "                                                                                                  \n",
      " conv2d_32 (Conv2D)             (None, 2, 2, 512)    131584      ['activation_27[0][0]']          \n",
      "                                                                                                  \n",
      " add_13 (Add)                   (None, 2, 2, 512)    0           ['batch_normalization_29[0][0]', \n",
      "                                                                  'conv2d_32[0][0]']              \n",
      "                                                                                                  \n",
      " activation_29 (Activation)     (None, 2, 2, 512)    0           ['add_13[0][0]']                 \n",
      "                                                                                                  \n",
      " conv2d_33 (Conv2D)             (None, 2, 2, 512)    2359808     ['activation_29[0][0]']          \n",
      "                                                                                                  \n",
      " batch_normalization_30 (BatchN  (None, 2, 2, 512)   2048        ['conv2d_33[0][0]']              \n",
      " ormalization)                                                                                    \n",
      "                                                                                                  \n",
      " activation_30 (Activation)     (None, 2, 2, 512)    0           ['batch_normalization_30[0][0]'] \n",
      "                                                                                                  \n",
      " conv2d_34 (Conv2D)             (None, 2, 2, 512)    2359808     ['activation_30[0][0]']          \n",
      "                                                                                                  \n",
      " batch_normalization_31 (BatchN  (None, 2, 2, 512)   2048        ['conv2d_34[0][0]']              \n",
      " ormalization)                                                                                    \n",
      "                                                                                                  \n",
      " add_14 (Add)                   (None, 2, 2, 512)    0           ['batch_normalization_31[0][0]', \n",
      "                                                                  'activation_29[0][0]']          \n",
      "                                                                                                  \n",
      " activation_31 (Activation)     (None, 2, 2, 512)    0           ['add_14[0][0]']                 \n",
      "                                                                                                  \n",
      " conv2d_35 (Conv2D)             (None, 2, 2, 512)    2359808     ['activation_31[0][0]']          \n",
      "                                                                                                  \n",
      " batch_normalization_32 (BatchN  (None, 2, 2, 512)   2048        ['conv2d_35[0][0]']              \n",
      " ormalization)                                                                                    \n",
      "                                                                                                  \n",
      " activation_32 (Activation)     (None, 2, 2, 512)    0           ['batch_normalization_32[0][0]'] \n",
      "                                                                                                  \n",
      " conv2d_36 (Conv2D)             (None, 2, 2, 512)    2359808     ['activation_32[0][0]']          \n",
      "                                                                                                  \n",
      " batch_normalization_33 (BatchN  (None, 2, 2, 512)   2048        ['conv2d_36[0][0]']              \n",
      " ormalization)                                                                                    \n",
      "                                                                                                  \n",
      " add_15 (Add)                   (None, 2, 2, 512)    0           ['batch_normalization_33[0][0]', \n",
      "                                                                  'activation_31[0][0]']          \n",
      "                                                                                                  \n",
      " activation_33 (Activation)     (None, 2, 2, 512)    0           ['add_15[0][0]']                 \n",
      "                                                                                                  \n",
      " average_pooling2d (AveragePool  (None, 1, 1, 512)   0           ['activation_33[0][0]']          \n",
      " ing2D)                                                                                           \n",
      "                                                                                                  \n",
      " flatten (Flatten)              (None, 512)          0           ['average_pooling2d[0][0]']      \n",
      "                                                                                                  \n",
      " dense (Dense)                  (None, 512)          262656      ['flatten[0][0]']                \n",
      "                                                                                                  \n",
      " dense_1 (Dense)                (None, 7)            3591        ['dense[0][0]']                  \n",
      "                                                                                                  \n",
      "==================================================================================================\n",
      "Total params: 21,566,599\n",
      "Trainable params: 21,551,367\n",
      "Non-trainable params: 15,232\n",
      "__________________________________________________________________________________________________\n"
     ]
    }
   ],
   "source": [
    "import tensorflow as tf\n",
    "from tensorflow import keras\n",
    "from keras.activations import relu\n",
    "from tensorflow.keras.layers import *\n",
    "from tensorflow.keras import Model\n",
    "from tensorflow.keras import layers as Layers\n",
    "\n",
    "def convolutional_block(x, filter):\n",
    "    # copy tensor to variable called x_skip\n",
    "    x_skip = x\n",
    "    # Layer 1\n",
    "    x = tf.keras.layers.Conv2D(filter, (3,3), padding = 'same', strides = (2,2))(x)\n",
    "    x = tf.keras.layers.BatchNormalization(axis=3)(x)\n",
    "    x = tf.keras.layers.Activation('relu')(x)\n",
    "    # Layer 2\n",
    "    x = tf.keras.layers.Conv2D(filter, (3,3), padding = 'same')(x)\n",
    "    x = tf.keras.layers.BatchNormalization(axis=3)(x)\n",
    "    # Processing Residue with conv(1,1)\n",
    "    x_skip = tf.keras.layers.Conv2D(filter, (1,1), strides = (2,2))(x_skip)\n",
    "    # Add Residue\n",
    "    x = tf.keras.layers.Add()([x, x_skip])     \n",
    "    x = tf.keras.layers.Activation('relu')(x)\n",
    "    return x\n",
    "\n",
    "def identity_block(x, filter):\n",
    "    # copy tensor to variable called x_skip\n",
    "    x_skip = x\n",
    "    # Layer 1\n",
    "    x = tf.keras.layers.Conv2D(filter, (3,3), padding = 'same')(x)\n",
    "    x = tf.keras.layers.BatchNormalization(axis=3)(x)\n",
    "    x = tf.keras.layers.Activation('relu')(x)\n",
    "    # Layer 2\n",
    "    x = tf.keras.layers.Conv2D(filter, (3,3), padding = 'same')(x)\n",
    "    x = tf.keras.layers.BatchNormalization(axis=3)(x)\n",
    "    # Add Residue\n",
    "    x = tf.keras.layers.Add()([x, x_skip])     \n",
    "    x = tf.keras.layers.Activation('relu')(x)\n",
    "    return x\n",
    "    \n",
    "rescale = tf.keras.layers.Rescaling(1./255)\n",
    "def ResNet34(shape = (48, 48, 1), classes = 7):\n",
    "    # Step 1 (Setup Input Layer)\n",
    "    x_input = tf.keras.layers.Input(shape)\n",
    "    x = rescale(x_input)\n",
    "    x = tf.keras.layers.ZeroPadding2D((3, 3))(x_input)\n",
    "    # Step 2 (Initial Conv layer along with maxPool)\n",
    "    x = tf.keras.layers.Conv2D(64, kernel_size=7, strides=2, padding='same')(x)\n",
    "    x = tf.keras.layers.BatchNormalization()(x)\n",
    "    x = tf.keras.layers.Activation('relu')(x)\n",
    "    x = tf.keras.layers.MaxPool2D(pool_size=3, strides=2, padding='same')(x)\n",
    "    # Define size of sub-blocks and initial filter size\n",
    "    block_layers = [3, 4, 6, 3]\n",
    "    filter_size = 64\n",
    "    # Step 3 Add the Resnet Blocks\n",
    "    for i in range(4):\n",
    "        if i == 0:\n",
    "            # For sub-block 1 Residual/Convolutional block not needed\n",
    "            for j in range(block_layers[i]):\n",
    "                x = identity_block(x, filter_size)\n",
    "        else:\n",
    "            # One Residual/Convolutional Block followed by Identity blocks\n",
    "            # The filter size will go on increasing by a factor of 2\n",
    "            filter_size = filter_size*2\n",
    "            x = convolutional_block(x, filter_size)\n",
    "            for j in range(block_layers[i] - 1):\n",
    "                x = identity_block(x, filter_size)\n",
    "    # Step 4 End Dense Network\n",
    "    x = tf.keras.layers.AveragePooling2D((2,2), padding = 'same')(x)\n",
    "    x = tf.keras.layers.Flatten()(x)\n",
    "    x = tf.keras.layers.Dense(512, activation = 'relu')(x)\n",
    "    x = tf.keras.layers.Dense(classes, activation = 'softmax')(x)\n",
    "    model = tf.keras.models.Model(inputs = x_input, outputs = x, name = \"ResNet34\")\n",
    "    return model\n",
    "\n",
    "model = ResNet34()\n",
    "model.summary()"
   ]
  },
  {
   "cell_type": "markdown",
   "metadata": {
    "id": "I3J6zFvemxa_",
    "pycharm": {
     "name": "#%% md\n"
    }
   },
   "source": [
    "Save model summary"
   ]
  },
  {
   "cell_type": "code",
   "execution_count": 17,
   "metadata": {
    "id": "_xOkIGQZmxbA",
    "pycharm": {
     "name": "#%%\n"
    }
   },
   "outputs": [],
   "source": [
    "with open(summary_filepath, 'w') as f:\n",
    "    model.summary(print_fn=lambda x: f.write(x + '\\n'))"
   ]
  },
  {
   "cell_type": "markdown",
   "metadata": {
    "id": "BfmfhR08mxbC",
    "pycharm": {
     "name": "#%% md\n"
    }
   },
   "source": [
    "Compile model"
   ]
  },
  {
   "cell_type": "code",
   "execution_count": 18,
   "metadata": {
    "id": "G8ifQSbGmxbE",
    "pycharm": {
     "name": "#%%\n"
    }
   },
   "outputs": [],
   "source": [
    "model.compile(loss='categorical_crossentropy',\n",
    "              optimizer=tf.keras.optimizers.SGD(learning_rate=0.1, momentum=0.9),\n",
    "              metrics=['accuracy'])"
   ]
  },
  {
   "cell_type": "markdown",
   "metadata": {
    "id": "vFqK9VExmxbF",
    "pycharm": {
     "name": "#%% md\n"
    }
   },
   "source": [
    "Pre-evaluate model"
   ]
  },
  {
   "cell_type": "code",
   "execution_count": 19,
   "metadata": {
    "colab": {
     "base_uri": "https://localhost:8080/"
    },
    "id": "8n2_SmwfmxbG",
    "outputId": "f6dc242b-0a84-4472-84db-f57cc4a6f22d",
    "pycharm": {
     "name": "#%%\n"
    }
   },
   "outputs": [
    {
     "output_type": "stream",
     "name": "stdout",
     "text": [
      "29/29 [==============================] - 9s 59ms/step - loss: 21.8745 - accuracy: 0.1248\n"
     ]
    },
    {
     "output_type": "execute_result",
     "data": {
      "text/plain": [
       "[21.874462127685547, 0.1248258575797081]"
      ]
     },
     "metadata": {},
     "execution_count": 19
    }
   ],
   "source": [
    "model.evaluate(test_ds)"
   ]
  },
  {
   "cell_type": "markdown",
   "metadata": {
    "id": "wxUvYkAJmxbI",
    "pycharm": {
     "name": "#%% md\n"
    }
   },
   "source": [
    "Callbacks"
   ]
  },
  {
   "cell_type": "code",
   "execution_count": 20,
   "metadata": {
    "id": "tKWXOW2lmxbJ",
    "pycharm": {
     "name": "#%%\n"
    }
   },
   "outputs": [],
   "source": [
    "save_checkpoint = tf.keras.callbacks.ModelCheckpoint(monitor='val_loss', save_best_only=True, filepath=best_model_filepath)\n",
    "early_stop = tf.keras.callbacks.EarlyStopping(monitor='val_loss', patience=30, verbose=1)\n",
    "csv_logger = tf.keras.callbacks.CSVLogger(filename=csv_logger_filepath)\n",
    "tensorboard_callback = tf.keras.callbacks.TensorBoard(log_dir=OUTPUT_DIR)\n",
    "\n",
    "\n",
    "def schedule(epoch) -> float:\n",
    "    if epoch >= 5:\n",
    "        return 0.00005\n",
    "    return 0.0005\n",
    "# reduce_lr = tf.keras.callbacks.LearningRateScheduler(schedule, verbose=0)\n",
    "reduce_lr = tf.keras.callbacks.ReduceLROnPlateau(monitor='val_loss', factor=0.5, patience=10, min_lr=1e-6, verbose=1)\n"
   ]
  },
  {
   "cell_type": "markdown",
   "metadata": {
    "id": "kaApQ0QAmxbK",
    "pycharm": {
     "name": "#%% md\n"
    }
   },
   "source": [
    "##### Training"
   ]
  },
  {
   "cell_type": "code",
   "execution_count": 21,
   "metadata": {
    "id": "4xQuNcwjW5Wi",
    "colab": {
     "base_uri": "https://localhost:8080/"
    },
    "outputId": "447fe38a-ecc7-4055-d194-b82857769908",
    "pycharm": {
     "name": "#%%\n"
    }
   },
   "outputs": [
    {
     "output_type": "stream",
     "name": "stdout",
     "text": [
      "Epoch 1/300\n",
      "225/225 [==============================] - 26s 91ms/step - loss: 1.9790 - accuracy: 0.2482 - val_loss: 1.8047 - val_accuracy: 0.2630 - lr: 0.1000\n",
      "Epoch 2/300\n",
      "225/225 [==============================] - 23s 99ms/step - loss: 1.7456 - accuracy: 0.2848 - val_loss: 1.8108 - val_accuracy: 0.2920 - lr: 0.1000\n",
      "Epoch 3/300\n",
      "225/225 [==============================] - 26s 116ms/step - loss: 1.6284 - accuracy: 0.3519 - val_loss: 1.7304 - val_accuracy: 0.3252 - lr: 0.1000\n",
      "Epoch 4/300\n",
      "225/225 [==============================] - 25s 107ms/step - loss: 1.5463 - accuracy: 0.3897 - val_loss: 1.5920 - val_accuracy: 0.3695 - lr: 0.1000\n",
      "Epoch 5/300\n",
      "225/225 [==============================] - 28s 122ms/step - loss: 1.4801 - accuracy: 0.4195 - val_loss: 1.5309 - val_accuracy: 0.4126 - lr: 0.1000\n",
      "Epoch 6/300\n",
      "225/225 [==============================] - 25s 107ms/step - loss: 1.4316 - accuracy: 0.4422 - val_loss: 1.8832 - val_accuracy: 0.3430 - lr: 0.1000\n",
      "Epoch 7/300\n",
      "225/225 [==============================] - 27s 120ms/step - loss: 1.3652 - accuracy: 0.4653 - val_loss: 1.5422 - val_accuracy: 0.4302 - lr: 0.1000\n",
      "Epoch 8/300\n",
      "225/225 [==============================] - 36s 156ms/step - loss: 1.3083 - accuracy: 0.4935 - val_loss: 1.3715 - val_accuracy: 0.4762 - lr: 0.1000\n",
      "Epoch 9/300\n",
      "225/225 [==============================] - 29s 125ms/step - loss: 1.2688 - accuracy: 0.5096 - val_loss: 1.3984 - val_accuracy: 0.4617 - lr: 0.1000\n",
      "Epoch 10/300\n",
      "225/225 [==============================] - 25s 106ms/step - loss: 1.2023 - accuracy: 0.5364 - val_loss: 1.4763 - val_accuracy: 0.4480 - lr: 0.1000\n",
      "Epoch 11/300\n",
      "225/225 [==============================] - 24s 106ms/step - loss: 1.1580 - accuracy: 0.5603 - val_loss: 1.4664 - val_accuracy: 0.4492 - lr: 0.1000\n",
      "Epoch 12/300\n",
      "225/225 [==============================] - 29s 128ms/step - loss: 1.1340 - accuracy: 0.5679 - val_loss: 1.5752 - val_accuracy: 0.4469 - lr: 0.1000\n",
      "Epoch 13/300\n",
      "225/225 [==============================] - 28s 122ms/step - loss: 1.0508 - accuracy: 0.6019 - val_loss: 1.5964 - val_accuracy: 0.4731 - lr: 0.1000\n",
      "Epoch 14/300\n",
      "225/225 [==============================] - 24s 106ms/step - loss: 0.9850 - accuracy: 0.6326 - val_loss: 1.7122 - val_accuracy: 0.4781 - lr: 0.1000\n",
      "Epoch 15/300\n",
      "225/225 [==============================] - 25s 107ms/step - loss: 0.9204 - accuracy: 0.6560 - val_loss: 1.7176 - val_accuracy: 0.4781 - lr: 0.1000\n",
      "Epoch 16/300\n",
      "225/225 [==============================] - 25s 107ms/step - loss: 0.8816 - accuracy: 0.6729 - val_loss: 1.6204 - val_accuracy: 0.4700 - lr: 0.1000\n",
      "Epoch 17/300\n",
      "225/225 [==============================] - 28s 120ms/step - loss: 0.8297 - accuracy: 0.6936 - val_loss: 1.7050 - val_accuracy: 0.4703 - lr: 0.1000\n",
      "Epoch 18/300\n",
      "224/225 [============================>.] - ETA: 0s - loss: 0.7468 - accuracy: 0.7252\n",
      "Epoch 18: ReduceLROnPlateau reducing learning rate to 0.05000000074505806.\n",
      "225/225 [==============================] - 28s 120ms/step - loss: 0.7465 - accuracy: 0.7253 - val_loss: 1.7265 - val_accuracy: 0.4865 - lr: 0.1000\n",
      "Epoch 19/300\n",
      "225/225 [==============================] - 24s 104ms/step - loss: 0.5453 - accuracy: 0.8053 - val_loss: 2.0331 - val_accuracy: 0.5171 - lr: 0.0500\n",
      "Epoch 20/300\n",
      "225/225 [==============================] - 23s 102ms/step - loss: 0.4250 - accuracy: 0.8486 - val_loss: 2.2497 - val_accuracy: 0.4968 - lr: 0.0500\n",
      "Epoch 21/300\n",
      "225/225 [==============================] - 27s 119ms/step - loss: 0.3682 - accuracy: 0.8682 - val_loss: 2.2897 - val_accuracy: 0.5238 - lr: 0.0500\n",
      "Epoch 22/300\n",
      "225/225 [==============================] - 27s 119ms/step - loss: 0.3169 - accuracy: 0.8862 - val_loss: 2.5651 - val_accuracy: 0.5205 - lr: 0.0500\n",
      "Epoch 23/300\n",
      "225/225 [==============================] - 27s 119ms/step - loss: 0.3403 - accuracy: 0.8799 - val_loss: 1.9882 - val_accuracy: 0.4767 - lr: 0.0500\n",
      "Epoch 24/300\n",
      "225/225 [==============================] - 27s 120ms/step - loss: 0.3589 - accuracy: 0.8721 - val_loss: 1.8500 - val_accuracy: 0.4817 - lr: 0.0500\n",
      "Epoch 25/300\n",
      "225/225 [==============================] - 24s 105ms/step - loss: 0.3868 - accuracy: 0.8592 - val_loss: 2.3695 - val_accuracy: 0.5077 - lr: 0.0500\n",
      "Epoch 26/300\n",
      "225/225 [==============================] - 24s 104ms/step - loss: 0.2852 - accuracy: 0.8986 - val_loss: 2.4772 - val_accuracy: 0.5311 - lr: 0.0500\n",
      "Epoch 27/300\n",
      "225/225 [==============================] - 24s 103ms/step - loss: 0.2282 - accuracy: 0.9195 - val_loss: 2.6139 - val_accuracy: 0.5224 - lr: 0.0500\n",
      "Epoch 28/300\n",
      "224/225 [============================>.] - ETA: 0s - loss: 0.2321 - accuracy: 0.9173\n",
      "Epoch 28: ReduceLROnPlateau reducing learning rate to 0.02500000037252903.\n",
      "225/225 [==============================] - 25s 109ms/step - loss: 0.2320 - accuracy: 0.9174 - val_loss: 2.4525 - val_accuracy: 0.5269 - lr: 0.0500\n",
      "Epoch 29/300\n",
      "225/225 [==============================] - 26s 113ms/step - loss: 0.1356 - accuracy: 0.9536 - val_loss: 2.7127 - val_accuracy: 0.5428 - lr: 0.0250\n",
      "Epoch 30/300\n",
      "225/225 [==============================] - 23s 99ms/step - loss: 0.0868 - accuracy: 0.9703 - val_loss: 2.9798 - val_accuracy: 0.5297 - lr: 0.0250\n",
      "Epoch 31/300\n",
      "225/225 [==============================] - 23s 102ms/step - loss: 0.0949 - accuracy: 0.9670 - val_loss: 3.1006 - val_accuracy: 0.5344 - lr: 0.0250\n",
      "Epoch 32/300\n",
      "225/225 [==============================] - 23s 102ms/step - loss: 0.0703 - accuracy: 0.9769 - val_loss: 3.2619 - val_accuracy: 0.5391 - lr: 0.0250\n",
      "Epoch 33/300\n",
      "225/225 [==============================] - 28s 122ms/step - loss: 0.0892 - accuracy: 0.9719 - val_loss: 3.1380 - val_accuracy: 0.5411 - lr: 0.0250\n",
      "Epoch 34/300\n",
      "225/225 [==============================] - 27s 116ms/step - loss: 0.0453 - accuracy: 0.9866 - val_loss: 3.2984 - val_accuracy: 0.5626 - lr: 0.0250\n",
      "Epoch 35/300\n",
      "225/225 [==============================] - 27s 115ms/step - loss: 0.0292 - accuracy: 0.9925 - val_loss: 3.3614 - val_accuracy: 0.5400 - lr: 0.0250\n",
      "Epoch 36/300\n",
      "225/225 [==============================] - 26s 115ms/step - loss: 0.0249 - accuracy: 0.9935 - val_loss: 3.3972 - val_accuracy: 0.5461 - lr: 0.0250\n",
      "Epoch 37/300\n",
      "225/225 [==============================] - 27s 116ms/step - loss: 0.0253 - accuracy: 0.9931 - val_loss: 3.4233 - val_accuracy: 0.5651 - lr: 0.0250\n",
      "Epoch 38/300\n",
      "224/225 [============================>.] - ETA: 0s - loss: 0.0192 - accuracy: 0.9947\n",
      "Epoch 38: ReduceLROnPlateau reducing learning rate to 0.012500000186264515.\n",
      "225/225 [==============================] - 27s 115ms/step - loss: 0.0192 - accuracy: 0.9947 - val_loss: 3.4034 - val_accuracy: 0.5486 - lr: 0.0250\n",
      "Epoch 38: early stopping\n"
     ]
    }
   ],
   "source": [
    "history = model.fit(\n",
    "        train_ds,\n",
    "        epochs=MAX_EPOCHS,\n",
    "        validation_data=val_ds,\n",
    "        callbacks=[save_checkpoint, csv_logger, reduce_lr, early_stop],\n",
    "        # class_weight=CLASS_WEIGHTS,\n",
    "        workers=10,\n",
    "        # use_multiprocessing=True\n",
    "    )"
   ]
  },
  {
   "cell_type": "markdown",
   "metadata": {
    "id": "LqHRHpMnmxbM",
    "pycharm": {
     "name": "#%% md\n"
    }
   },
   "source": [
    "Evaluate model"
   ]
  },
  {
   "cell_type": "code",
   "execution_count": 22,
   "metadata": {
    "id": "A6uwwoeKmxbM",
    "colab": {
     "base_uri": "https://localhost:8080/"
    },
    "outputId": "5ddd5b40-7653-4eb4-fb25-5110f0762aff",
    "pycharm": {
     "name": "#%%\n"
    }
   },
   "outputs": [
    {
     "output_type": "stream",
     "name": "stdout",
     "text": [
      "29/29 [==============================] - 3s 93ms/step - loss: 3.2372 - accuracy: 0.5667\n"
     ]
    },
    {
     "output_type": "execute_result",
     "data": {
      "text/plain": [
       "[3.237187623977661, 0.5667316913604736]"
      ]
     },
     "metadata": {},
     "execution_count": 22
    }
   ],
   "source": [
    "# uncomment to load best model\n",
    "# model=tf.keras.models.load_model(best_model_filepath)\n",
    "\n",
    "model.evaluate(test_ds)"
   ]
  },
  {
   "cell_type": "markdown",
   "metadata": {
    "id": "ayov6RrOmxbN",
    "pycharm": {
     "name": "#%% md\n"
    }
   },
   "source": [
    "### VISUALIZATION"
   ]
  },
  {
   "cell_type": "markdown",
   "metadata": {
    "id": "_D5f7yMpmxbO",
    "pycharm": {
     "name": "#%% md\n"
    }
   },
   "source": [
    "Loss and accuracy history"
   ]
  },
  {
   "cell_type": "code",
   "execution_count": 24,
   "metadata": {
    "id": "gniI1bHHmxbS",
    "colab": {
     "base_uri": "https://localhost:8080/",
     "height": 513
    },
    "outputId": "fb4304ae-d491-4603-830a-582be5de4662",
    "pycharm": {
     "name": "#%%\n"
    }
   },
   "outputs": [
    {
     "output_type": "display_data",
     "data": {
      "text/plain": [
       "<Figure size 1152x576 with 2 Axes>"
      ],
      "image/png": "[encoded data removed]"
     },
     "metadata": {
      "needs_background": "light"
     }
    }
   ],
   "source": [
    "plt.figure(figsize=(16,8))\n",
    "plt.subplot(1,2,1)\n",
    "plt.plot(history.history['accuracy'])\n",
    "plt.plot(history.history['val_accuracy'])\n",
    "plt.title('model accuracy')\n",
    "plt.ylabel('accuracy')\n",
    "plt.xlabel('epoch')\n",
    "plt.legend(['train', 'test'], loc='upper left')\n",
    "# summarize history for loss\n",
    "\n",
    "plt.subplot(1,2,2)\n",
    "plt.plot(history.history['loss'])\n",
    "plt.plot(history.history['val_loss'])\n",
    "plt.title('model loss')\n",
    "plt.ylabel('loss')\n",
    "plt.xlabel('epoch')\n",
    "plt.legend(['train', 'test'], loc='upper left')\n",
    "\n",
    "plt.savefig(history_filepath, facecolor='white', bbox_inches='tight')\n",
    "plt.show()"
   ]
  },
  {
   "cell_type": "markdown",
   "metadata": {
    "id": "GTLb_RP0mxbT",
    "pycharm": {
     "name": "#%% md\n"
    }
   },
   "source": [
    "Trues and predictions"
   ]
  },
  {
   "cell_type": "code",
   "execution_count": 33,
   "metadata": {
    "id": "cnqdK7sQ5Yas",
    "colab": {
     "base_uri": "https://localhost:8080/",
     "height": 781
    },
    "outputId": "11328b65-6e0a-42d4-c427-46684aa6084d",
    "pycharm": {
     "name": "#%%\n"
    }
   },
   "outputs": [
    {
     "output_type": "stream",
     "name": "stdout",
     "text": [
      "29/29 [==============================] - 2s 73ms/step\n"
     ]
    },
    {
     "output_type": "display_data",
     "data": {
      "text/plain": [
       "<Figure size 432x288 with 0 Axes>"
      ]
     },
     "metadata": {}
    },
    {
     "output_type": "display_data",
     "data": {
      "text/plain": [
       "<Figure size 720x720 with 2 Axes>"
      ],
      "image/png": "[encoded data removed]"
     },
     "metadata": {
      "needs_background": "light"
     }
    },
    {
     "output_type": "display_data",
     "data": {
      "text/plain": [
       "<Figure size 432x288 with 0 Axes>"
      ]
     },
     "metadata": {}
    }
   ],
   "source": [
    "# show the confusion matrix of our predictions\n",
    "\n",
    "# compute predictions\n",
    "predictions = model.predict(test_ds)\n",
    "preds = [np.argmax(probas) for probas in predictions]\n",
    "trues = np.concatenate([y for x, y in test_ds], axis=0)\n",
    "trues = [np.argmax(t) for t in trues]\n",
    "class_names = test_ds.class_names\n",
    "\n",
    "from sklearn.metrics import confusion_matrix\n",
    "import itertools\n",
    "\n",
    "def plot_confusion_matrix(cm, classes, title='Confusion matrix', cmap=plt.cm.Blues):\n",
    "    cm = cm.astype('float') / cm.sum(axis=1)[:, np.newaxis]\n",
    "    plt.figure(figsize=(10,10))\n",
    "    plt.imshow(cm, interpolation='nearest', cmap=cmap)\n",
    "    plt.title(title)\n",
    "    plt.colorbar()\n",
    "    tick_marks = np.arange(len(classes))\n",
    "    plt.xticks(tick_marks, classes, rotation=45)\n",
    "    plt.yticks(tick_marks, classes)\n",
    "\n",
    "    fmt = '.2f'\n",
    "    thresh = cm.max() / 2.\n",
    "    for i, j in itertools.product(range(cm.shape[0]), range(cm.shape[1])):\n",
    "        plt.text(j, i, format(cm[i, j], fmt),\n",
    "                 horizontalalignment=\"center\",\n",
    "                 color=\"white\" if cm[i, j] > thresh else \"black\")\n",
    "\n",
    "    plt.ylabel('True label')\n",
    "    plt.xlabel('Predicted label')\n",
    "    plt.tight_layout()\n",
    "    \n",
    "# compute confusion matrix\n",
    "cnf_matrix = confusion_matrix(trues, preds)\n",
    "np.set_printoptions(precision=2)\n",
    "\n",
    "# plot normalized confusion matrix\n",
    "plt.figure()\n",
    "plot_confusion_matrix(cnf_matrix, classes=class_names, title='Normalized confusion matrix')\n",
    "plt.show()\n",
    "plt.savefig(confusion_matrix_norm_filepath, facecolor='white', bbox_inches='tight')"
   ]
  },
  {
   "cell_type": "markdown",
   "metadata": {
    "id": "O2PXYpj-mxbX",
    "pycharm": {
     "name": "#%% md\n"
    }
   },
   "source": [
    "Classification report"
   ]
  },
  {
   "cell_type": "code",
   "execution_count": 34,
   "metadata": {
    "id": "CCq6lRF9mxbZ",
    "colab": {
     "base_uri": "https://localhost:8080/"
    },
    "outputId": "81450ee1-c543-4fa7-de14-86ecb70e22f2",
    "pycharm": {
     "name": "#%%\n"
    }
   },
   "outputs": [
    {
     "output_type": "stream",
     "name": "stdout",
     "text": [
      "              precision    recall  f1-score   support\n",
      "\n",
      "       Angry       0.48      0.47      0.47       491\n",
      "     Disgust       0.63      0.56      0.60        55\n",
      "        Fear       0.39      0.49      0.44       528\n",
      "       Happy       0.79      0.74      0.76       879\n",
      "     Neutral       0.53      0.52      0.53       626\n",
      "         Sad       0.42      0.43      0.43       594\n",
      "    Surprise       0.82      0.67      0.74       416\n",
      "\n",
      "    accuracy                           0.57      3589\n",
      "   macro avg       0.58      0.56      0.57      3589\n",
      "weighted avg       0.58      0.57      0.57      3589\n",
      "\n"
     ]
    }
   ],
   "source": [
    "cr=classification_report(trues,preds,target_names=class_names)\n",
    "cm = np.array2string(confusion_matrix(trues, preds))\n",
    "with open(report_filepath, 'w') as f:\n",
    "    f.write(f'Title\\n\\nClassification Report\\n\\n{cr}\\n\\nConfusion Matrix\\n\\n{cm}\\n')\n",
    "\n",
    "print(cr)"
   ]
  },
  {
   "cell_type": "markdown",
   "metadata": {
    "id": "ISB8rY6dmxbZ",
    "pycharm": {
     "name": "#%% md\n"
    }
   },
   "source": [
    "Confusion matrix"
   ]
  },
  {
   "cell_type": "code",
   "execution_count": 35,
   "metadata": {
    "id": "QEh9Rv2mmxba",
    "colab": {
     "base_uri": "https://localhost:8080/",
     "height": 297
    },
    "outputId": "ca1ad14a-eed2-4a19-9347-d0313ff43626",
    "pycharm": {
     "name": "#%%\n"
    }
   },
   "outputs": [
    {
     "output_type": "display_data",
     "data": {
      "text/plain": [
       "<Figure size 720x720 with 0 Axes>"
      ]
     },
     "metadata": {}
    },
    {
     "output_type": "display_data",
     "data": {
      "text/plain": [
       "<Figure size 432x288 with 2 Axes>"
      ],
      "image/png": "[encoded data removed]"
     },
     "metadata": {
      "needs_background": "light"
     }
    }
   ],
   "source": [
    "cm=confusion_matrix(trues, preds, normalize='pred')\n",
    "plt.figure(figsize=(10,10))\n",
    "np.set_printoptions(precision=2)\n",
    "disp = ConfusionMatrixDisplay(cm)\n",
    "disp.plot()\n",
    "plt.savefig(confusion_matrix_filepath, facecolor='white', bbox_inches='tight')"
   ]
  }
 ],
 "metadata": {
  "accelerator": "GPU",
  "colab": {
   "collapsed_sections": [
    "ayov6RrOmxbN"
   ],
   "provenance": []
  },
  "gpuClass": "standard",
  "kernelspec": {
   "display_name": "Python 3 (ipykernel)",
   "language": "python",
   "name": "python3"
  },
  "language_info": {
   "codemirror_mode": {
    "name": "ipython",
    "version": 3
   },
   "file_extension": ".py",
   "mimetype": "text/x-python",
   "name": "python",
   "nbconvert_exporter": "python",
   "pygments_lexer": "ipython3",
   "version": "3.9.13"
  }
 },
 "nbformat": 4,
 "nbformat_minor": 0
}